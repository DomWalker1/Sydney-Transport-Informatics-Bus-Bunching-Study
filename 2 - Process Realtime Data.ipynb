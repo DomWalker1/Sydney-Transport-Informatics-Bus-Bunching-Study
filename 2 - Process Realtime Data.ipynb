{
 "cells": [
  {
   "cell_type": "markdown",
   "metadata": {},
   "source": [
    "# Process Realtime Data"
   ]
  },
  {
   "cell_type": "code",
   "execution_count": 1,
   "metadata": {
    "scrolled": false
   },
   "outputs": [],
   "source": [
    "#pip install geopy\n",
    "#pip install geo-py"
   ]
  },
  {
   "cell_type": "code",
   "execution_count": 2,
   "metadata": {},
   "outputs": [],
   "source": [
    "# Import all required modules\n",
    "import pandas as pd\n",
    "#import random\n",
    "import numpy as np\n",
    "#import pprint\n",
    "import matplotlib.pyplot as plt\n",
    "%matplotlib inline\n",
    "\n",
    "import datetime as dt\n",
    "from datetime import datetime\n",
    "\n",
    "import math\n",
    "\n",
    "import os\n",
    "import time # Used for playing around with timers. \n",
    "from sys import getsizeof # Used for checking how much memory a variable is using. \n",
    "import geopy.distance\n",
    "\n",
    "\n",
    "from functools import reduce\n",
    "from geographiclib.geodesic import Geodesic"
   ]
  },
  {
   "cell_type": "code",
   "execution_count": null,
   "metadata": {},
   "outputs": [],
   "source": []
  },
  {
   "cell_type": "markdown",
   "metadata": {},
   "source": [
    "## GTFS - Static"
   ]
  },
  {
   "cell_type": "markdown",
   "metadata": {},
   "source": [
    "##### Import the GTFS - static data and take a look at it"
   ]
  },
  {
   "cell_type": "code",
   "execution_count": 3,
   "metadata": {},
   "outputs": [
    {
     "name": "stdout",
     "output_type": "stream",
     "text": [
      "stop_times.txt ; 358097.839 kb\n",
      "trips.txt ; 22010.921 kb\n",
      "calendar.txt ; 167.91 kb\n",
      "routes.txt ; 802.772 kb\n",
      "stops.txt ; 4529.801 kb\n",
      "agency.txt ; 11.23 kb\n",
      "notes.txt ; 96.399 kb\n",
      "calendar_dates.txt ; 988.769 kb\n"
     ]
    }
   ],
   "source": [
    "# The GTFS-static data is already available to us in the (hidden) 'gtfs_static_2020' folder\n",
    "# If we start with '/' we go up to the top of the directory folder\n",
    "pathname = '/course/data/gtfs_static_2020'\n",
    "\n",
    "# Let's see what we have available in the (hidden) 'gtfs_static_2020' folder\n",
    "\n",
    "# For every file that is in the list in the directory print out the name of the file\n",
    "for file in os.listdir(pathname):\n",
    "    print(file, \";\", str(os.path.getsize(pathname+'/'+file)/1000)+' kb')\n",
    "# Even thoough the data set is hidden we can still access it\n",
    "# At the end we have the size of the file. The default unit is 'bytes'\n",
    "\n"
   ]
  },
  {
   "cell_type": "code",
   "execution_count": 4,
   "metadata": {
    "scrolled": false
   },
   "outputs": [],
   "source": [
    "agencydf = pd.read_csv(pathname+'/'+'agency.txt')\n",
    "#agencydf.head(3)\n"
   ]
  },
  {
   "cell_type": "code",
   "execution_count": 5,
   "metadata": {
    "scrolled": true
   },
   "outputs": [
    {
     "data": {
      "text/html": [
       "<div>\n",
       "<style scoped>\n",
       "    .dataframe tbody tr th:only-of-type {\n",
       "        vertical-align: middle;\n",
       "    }\n",
       "\n",
       "    .dataframe tbody tr th {\n",
       "        vertical-align: top;\n",
       "    }\n",
       "\n",
       "    .dataframe thead th {\n",
       "        text-align: right;\n",
       "    }\n",
       "</style>\n",
       "<table border=\"1\" class=\"dataframe\">\n",
       "  <thead>\n",
       "    <tr style=\"text-align: right;\">\n",
       "      <th></th>\n",
       "      <th>route_id</th>\n",
       "      <th>service_id</th>\n",
       "      <th>trip_id</th>\n",
       "      <th>shape_id</th>\n",
       "      <th>trip_headsign</th>\n",
       "      <th>direction_id</th>\n",
       "      <th>block_id</th>\n",
       "      <th>wheelchair_accessible</th>\n",
       "      <th>route_direction</th>\n",
       "      <th>trip_note</th>\n",
       "      <th>bikes_allowed</th>\n",
       "    </tr>\n",
       "  </thead>\n",
       "  <tbody>\n",
       "    <tr>\n",
       "      <th>0</th>\n",
       "      <td>1-31B-M-sj2-4</td>\n",
       "      <td>AA51+1</td>\n",
       "      <td>1.AA51.1-31B-M-sj2-4.2.R</td>\n",
       "      <td>1-31B-M-sj2-4.2.R</td>\n",
       "      <td>Mount Victoria</td>\n",
       "      <td>1</td>\n",
       "      <td>NaN</td>\n",
       "      <td>2</td>\n",
       "      <td>Lithgow, then Mount Victoria</td>\n",
       "      <td>NaN</td>\n",
       "      <td>NaN</td>\n",
       "    </tr>\n",
       "    <tr>\n",
       "      <th>1</th>\n",
       "      <td>1-31B-M-sj2-4</td>\n",
       "      <td>AA51+1</td>\n",
       "      <td>2.AA51.1-31B-M-sj2-4.2.R</td>\n",
       "      <td>1-31B-M-sj2-4.2.R</td>\n",
       "      <td>Mount Victoria</td>\n",
       "      <td>1</td>\n",
       "      <td>NaN</td>\n",
       "      <td>2</td>\n",
       "      <td>Lithgow, then Mount Victoria</td>\n",
       "      <td>NaN</td>\n",
       "      <td>NaN</td>\n",
       "    </tr>\n",
       "    <tr>\n",
       "      <th>2</th>\n",
       "      <td>1-31B-M-sj2-4</td>\n",
       "      <td>AA51+1</td>\n",
       "      <td>3.AA51.1-31B-M-sj2-4.2.R</td>\n",
       "      <td>1-31B-M-sj2-4.2.R</td>\n",
       "      <td>Mount Victoria</td>\n",
       "      <td>1</td>\n",
       "      <td>NaN</td>\n",
       "      <td>2</td>\n",
       "      <td>Lithgow, then Mount Victoria</td>\n",
       "      <td>NaN</td>\n",
       "      <td>NaN</td>\n",
       "    </tr>\n",
       "  </tbody>\n",
       "</table>\n",
       "</div>"
      ],
      "text/plain": [
       "        route_id service_id                   trip_id           shape_id  \\\n",
       "0  1-31B-M-sj2-4     AA51+1  1.AA51.1-31B-M-sj2-4.2.R  1-31B-M-sj2-4.2.R   \n",
       "1  1-31B-M-sj2-4     AA51+1  2.AA51.1-31B-M-sj2-4.2.R  1-31B-M-sj2-4.2.R   \n",
       "2  1-31B-M-sj2-4     AA51+1  3.AA51.1-31B-M-sj2-4.2.R  1-31B-M-sj2-4.2.R   \n",
       "\n",
       "    trip_headsign  direction_id block_id  wheelchair_accessible  \\\n",
       "0  Mount Victoria             1      NaN                      2   \n",
       "1  Mount Victoria             1      NaN                      2   \n",
       "2  Mount Victoria             1      NaN                      2   \n",
       "\n",
       "                route_direction trip_note  bikes_allowed  \n",
       "0  Lithgow, then Mount Victoria       NaN            NaN  \n",
       "1  Lithgow, then Mount Victoria       NaN            NaN  \n",
       "2  Lithgow, then Mount Victoria       NaN            NaN  "
      ]
     },
     "execution_count": 5,
     "metadata": {},
     "output_type": "execute_result"
    }
   ],
   "source": [
    "tripsdf = pd.read_csv(pathname+'/'+'trips.txt')\n",
    "tripsdf.head(3)"
   ]
  },
  {
   "cell_type": "code",
   "execution_count": 6,
   "metadata": {},
   "outputs": [],
   "source": [
    "#tripsdf = pd.read_csv(pathname+'/'+'trips.txt')\n",
    "#tripsdf = tripsdf.astype(str)\n",
    "#tripsdf['direction_id'] = tripsdf['direction_id'].astype(int)\n",
    "#tripsdf.dtypes"
   ]
  },
  {
   "cell_type": "code",
   "execution_count": 7,
   "metadata": {
    "scrolled": true
   },
   "outputs": [],
   "source": [
    "caldf = pd.read_csv(pathname+'/'+'calendar.txt')\n",
    "#caldf.head(3)"
   ]
  },
  {
   "cell_type": "code",
   "execution_count": 8,
   "metadata": {
    "scrolled": true
   },
   "outputs": [],
   "source": [
    "cal_datesdf = pd.read_csv(pathname+'/'+'calendar_dates.txt')\n",
    "#cal_datesdf.head(3)"
   ]
  },
  {
   "cell_type": "code",
   "execution_count": 9,
   "metadata": {
    "scrolled": false
   },
   "outputs": [
    {
     "data": {
      "text/html": [
       "<div>\n",
       "<style scoped>\n",
       "    .dataframe tbody tr th:only-of-type {\n",
       "        vertical-align: middle;\n",
       "    }\n",
       "\n",
       "    .dataframe tbody tr th {\n",
       "        vertical-align: top;\n",
       "    }\n",
       "\n",
       "    .dataframe thead th {\n",
       "        text-align: right;\n",
       "    }\n",
       "</style>\n",
       "<table border=\"1\" class=\"dataframe\">\n",
       "  <thead>\n",
       "    <tr style=\"text-align: right;\">\n",
       "      <th></th>\n",
       "      <th>stop_id</th>\n",
       "      <th>stop_code</th>\n",
       "      <th>stop_name</th>\n",
       "      <th>stop_lat</th>\n",
       "      <th>stop_lon</th>\n",
       "      <th>location_type</th>\n",
       "      <th>parent_station</th>\n",
       "      <th>wheelchair_boarding</th>\n",
       "      <th>platform_code</th>\n",
       "    </tr>\n",
       "  </thead>\n",
       "  <tbody>\n",
       "    <tr>\n",
       "      <th>0</th>\n",
       "      <td>228055</td>\n",
       "      <td>228055.0</td>\n",
       "      <td>Pacific Hwy After Murray St</td>\n",
       "      <td>-33.003610</td>\n",
       "      <td>151.685566</td>\n",
       "      <td>NaN</td>\n",
       "      <td>NaN</td>\n",
       "      <td>0</td>\n",
       "      <td>NaN</td>\n",
       "    </tr>\n",
       "    <tr>\n",
       "      <th>1</th>\n",
       "      <td>228054</td>\n",
       "      <td>228054.0</td>\n",
       "      <td>Pacific Hwy Opp Ntaba Rd</td>\n",
       "      <td>-33.006195</td>\n",
       "      <td>151.684612</td>\n",
       "      <td>NaN</td>\n",
       "      <td>NaN</td>\n",
       "      <td>0</td>\n",
       "      <td>NaN</td>\n",
       "    </tr>\n",
       "    <tr>\n",
       "      <th>2</th>\n",
       "      <td>287146</td>\n",
       "      <td>287146.0</td>\n",
       "      <td>Flint St At Oxford St</td>\n",
       "      <td>-33.392373</td>\n",
       "      <td>148.014977</td>\n",
       "      <td>NaN</td>\n",
       "      <td>NaN</td>\n",
       "      <td>0</td>\n",
       "      <td>NaN</td>\n",
       "    </tr>\n",
       "  </tbody>\n",
       "</table>\n",
       "</div>"
      ],
      "text/plain": [
       "  stop_id  stop_code                    stop_name   stop_lat    stop_lon  \\\n",
       "0  228055   228055.0  Pacific Hwy After Murray St -33.003610  151.685566   \n",
       "1  228054   228054.0     Pacific Hwy Opp Ntaba Rd -33.006195  151.684612   \n",
       "2  287146   287146.0        Flint St At Oxford St -33.392373  148.014977   \n",
       "\n",
       "   location_type parent_station  wheelchair_boarding platform_code  \n",
       "0            NaN            NaN                    0           NaN  \n",
       "1            NaN            NaN                    0           NaN  \n",
       "2            NaN            NaN                    0           NaN  "
      ]
     },
     "execution_count": 9,
     "metadata": {},
     "output_type": "execute_result"
    }
   ],
   "source": [
    "stopsdf = pd.read_csv(pathname+'/'+'stops.txt')\n",
    "stopsdf.head(3)"
   ]
  },
  {
   "cell_type": "code",
   "execution_count": 10,
   "metadata": {
    "scrolled": true
   },
   "outputs": [],
   "source": [
    "stop_timesdf = pd.read_csv(pathname+'/'+'stop_times.txt',dtype = str)\n",
    "#stop_timesdf.head(3)\n"
   ]
  },
  {
   "cell_type": "code",
   "execution_count": 11,
   "metadata": {},
   "outputs": [],
   "source": [
    "#stop_timesdf.dtypes"
   ]
  },
  {
   "cell_type": "code",
   "execution_count": 12,
   "metadata": {},
   "outputs": [],
   "source": [
    "#stop_timesdf[stop_timesdf['trip_id'].str.contains('1061421') & stop_timesdf['stop_id'].str.contains('206123')]"
   ]
  },
  {
   "cell_type": "code",
   "execution_count": 13,
   "metadata": {
    "scrolled": true
   },
   "outputs": [],
   "source": [
    "routesdf = pd.read_csv(pathname+'/'+'routes.txt')\n",
    "#routesdf.head(3)\n",
    "\n",
    "# Make a list of routes that are part of the Sydney Buses Network-- ditching trains, ferry, light rail. There is too much data to import all trips (even just 15 seconds of it)\n",
    "#busroutes = routesdf[routesdf['route_desc']=='Sydney Buses Network']['route_id'].tolist()\n"
   ]
  },
  {
   "cell_type": "code",
   "execution_count": 14,
   "metadata": {
    "scrolled": true
   },
   "outputs": [],
   "source": [
    "#tripsdf = pd.read_csv(pathname+'/'+'trips.txt')\n",
    "#tripsdf.head(3)\n",
    "\n",
    "# Narrow it down to only trips belonging to bus routes. \n",
    "#tripsdf=tripsdf[tripsdf['route_id'].isin(busroutes)]"
   ]
  },
  {
   "cell_type": "markdown",
   "metadata": {},
   "source": [
    "### Stop List for Military Road, Victoria Rd and Paramatta Road"
   ]
  },
  {
   "cell_type": "code",
   "execution_count": 15,
   "metadata": {},
   "outputs": [],
   "source": [
    "# Get all the stops on Victoria Road\n",
    "df_vic = stopsdf[stopsdf.stop_name.str.startswith('Victoria Rd')][['stop_id', 'stop_lat', 'stop_lon']]\n",
    "\n",
    "# The end points\n",
    "left_lat_lon = [-33.797348, 151.004453]\n",
    "right_lat_lon = [-33.869001, 151.176395]\n",
    "\n",
    "\n",
    "lon_min = min(left_lat_lon[1],right_lat_lon[1])\n",
    "lon_max = max(left_lat_lon[1],right_lat_lon[1])\n",
    "\n",
    "lat_min = min(left_lat_lon[0],right_lat_lon[0])\n",
    "lat_max = max(left_lat_lon[0],right_lat_lon[0])\n",
    "\n",
    "# All the stops on a 'Victoria Rd' that is within the endpoint of the Victoria Road that we want\n",
    "df_vic = df_vic[(df_vic['stop_lat'] < lat_max) & (df_vic['stop_lat'] > lat_min) & (df_vic['stop_lon'] < lon_max) & (df_vic['stop_lon'] > lon_min)]\n",
    "\n",
    "# Save and check using this website: http://www.hamstermap.com/quickmap.php\n",
    "#df_vic.to_csv('lat_long3', index = False)"
   ]
  },
  {
   "cell_type": "code",
   "execution_count": 16,
   "metadata": {},
   "outputs": [],
   "source": [
    "# Get all the stops on Parramatta Road\n",
    "df_parr = stopsdf[stopsdf.stop_name.str.startswith('Parramatta Rd')][['stop_id', 'stop_lat', 'stop_lon']]\n",
    "\n",
    "# Save and check using this website: http://www.hamstermap.com/quickmap.php\n",
    "#df_parr.to_csv('lat_long4', index = False)\n",
    "\n",
    "# Considering the map with all the lat/long points it appears that the list of points doesnt need to be refined further"
   ]
  },
  {
   "cell_type": "code",
   "execution_count": 17,
   "metadata": {},
   "outputs": [],
   "source": [
    "# Get all the stops on Military Road\n",
    "df_mil = stopsdf[stopsdf.stop_name.str.startswith('Military Rd')][['stop_id', 'stop_lat', 'stop_lon']]\n",
    "\n",
    "# The end points\n",
    "left_lat_lon = [-33.832889, 151.215521]\n",
    "right_lat_lon = [-33.823721, 151.248244]\n",
    "\n",
    "\n",
    "lon_min = min(left_lat_lon[1],right_lat_lon[1])\n",
    "lon_max = max(left_lat_lon[1],right_lat_lon[1])\n",
    "\n",
    "lat_min = min(left_lat_lon[0],right_lat_lon[0])\n",
    "lat_max = max(left_lat_lon[0],right_lat_lon[0])\n",
    "\n",
    "# All the stops on a 'Victoria Rd' that is within the endpoint of the Victoria Road that we want\n",
    "df_mil = df_mil[(df_mil['stop_lat'] < lat_max) & (df_mil['stop_lat'] > lat_min) & (df_mil['stop_lon'] < lon_max) & (df_mil['stop_lon'] > lon_min)]\n",
    "#df_mil\n",
    "\n",
    "# Save and check using this website: http://www.hamstermap.com/quickmap.php\n",
    "#df_mil.to_csv('lat_long5', index = False)"
   ]
  },
  {
   "cell_type": "code",
   "execution_count": 18,
   "metadata": {},
   "outputs": [],
   "source": [
    "# List of main bus stops on military road\n",
    "stopslist_military1 = [2088178, 208913, 208914, 208948, 208871, 208818, \n",
    "             2088180, 2088243, 2088176, 209058, 209036, 2088192, \n",
    "             209019, 208944, 209019, 208960]\n",
    "\n",
    "stopslist_military2 = df_mil['stop_id'].astype(str).tolist()\n",
    "stopslist_military = np.unique(stopslist_military1 + stopslist_military2).tolist()\n",
    "\n",
    "stopslist_vict = df_vic['stop_id'].astype(str).tolist()\n",
    "stopslist_parra = df_parr['stop_id'].astype(str).tolist()\n",
    "\n"
   ]
  },
  {
   "cell_type": "markdown",
   "metadata": {},
   "source": [
    "### Routes in Study"
   ]
  },
  {
   "cell_type": "code",
   "execution_count": 19,
   "metadata": {},
   "outputs": [],
   "source": [
    "stopslist = stopslist_military"
   ]
  },
  {
   "cell_type": "code",
   "execution_count": 20,
   "metadata": {},
   "outputs": [
    {
     "name": "stdout",
     "output_type": "stream",
     "text": [
      "4575283\n",
      "27718\n"
     ]
    }
   ],
   "source": [
    "# Get the stop times for all the buses that stop at the bus stop in 'stopslist'\n",
    "print(len(stop_timesdf))\n",
    "stop_timesdf_sample = stop_timesdf[stop_timesdf.stop_id.isin(stopslist)]\n",
    "print(len(stop_timesdf_sample))"
   ]
  },
  {
   "cell_type": "code",
   "execution_count": 21,
   "metadata": {},
   "outputs": [],
   "source": [
    "# List of unique trip ids for all the buses that stop at the bus stops in 'stopslist'\n",
    "triplist = stop_timesdf_sample['trip_id'].unique().astype(str).tolist()\n",
    "# Note: this should be the trip ids for those buses that actually have 'stop times'"
   ]
  },
  {
   "cell_type": "code",
   "execution_count": 22,
   "metadata": {},
   "outputs": [],
   "source": [
    "# We're only interested in the trips for those routes that have stops in 'stopslist'\n",
    "tripsdf_sample = tripsdf[tripsdf['trip_id'].isin(triplist)] \n",
    "#tripsdf.head()"
   ]
  },
  {
   "cell_type": "code",
   "execution_count": 23,
   "metadata": {},
   "outputs": [],
   "source": [
    "# Make a list that contains routes of buses that have stops in 'stopslist'\n",
    "routelist = tripsdf_sample['route_id'].unique().tolist()"
   ]
  },
  {
   "cell_type": "code",
   "execution_count": 24,
   "metadata": {},
   "outputs": [],
   "source": [
    "#routelist"
   ]
  },
  {
   "cell_type": "code",
   "execution_count": 25,
   "metadata": {},
   "outputs": [],
   "source": [
    "# Make dataframe from routesdf containing only the routes using Military Road\n",
    "routesdf = routesdf[routesdf['route_id'].isin(routelist)]\n",
    "#routesdf.head()"
   ]
  },
  {
   "cell_type": "code",
   "execution_count": 26,
   "metadata": {
    "scrolled": false
   },
   "outputs": [
    {
     "data": {
      "text/html": [
       "<div>\n",
       "<style scoped>\n",
       "    .dataframe tbody tr th:only-of-type {\n",
       "        vertical-align: middle;\n",
       "    }\n",
       "\n",
       "    .dataframe tbody tr th {\n",
       "        vertical-align: top;\n",
       "    }\n",
       "\n",
       "    .dataframe thead th {\n",
       "        text-align: right;\n",
       "    }\n",
       "</style>\n",
       "<table border=\"1\" class=\"dataframe\">\n",
       "  <thead>\n",
       "    <tr style=\"text-align: right;\">\n",
       "      <th></th>\n",
       "      <th>route_id</th>\n",
       "      <th>agency_id</th>\n",
       "      <th>route_short_name</th>\n",
       "      <th>route_long_name</th>\n",
       "      <th>route_desc</th>\n",
       "      <th>route_type</th>\n",
       "      <th>route_color</th>\n",
       "      <th>route_text_color</th>\n",
       "      <th>exact_times</th>\n",
       "    </tr>\n",
       "  </thead>\n",
       "  <tbody>\n",
       "    <tr>\n",
       "      <th>1779</th>\n",
       "      <td>26-257-sj2-1</td>\n",
       "      <td>2439</td>\n",
       "      <td>257</td>\n",
       "      <td>PrePay-Only - Balmoral to Chatswood via Crows ...</td>\n",
       "      <td>Sydney Buses Network</td>\n",
       "      <td>700</td>\n",
       "      <td>00B5EF</td>\n",
       "      <td>FFFFFF</td>\n",
       "      <td>1</td>\n",
       "    </tr>\n",
       "    <tr>\n",
       "      <th>2042</th>\n",
       "      <td>28-143-sj2-1</td>\n",
       "      <td>2440</td>\n",
       "      <td>143</td>\n",
       "      <td>PrePay-Only - Manly to Chatswood via Balgowlah...</td>\n",
       "      <td>Sydney Buses Network</td>\n",
       "      <td>700</td>\n",
       "      <td>00B5EF</td>\n",
       "      <td>FFFFFF</td>\n",
       "      <td>1</td>\n",
       "    </tr>\n",
       "    <tr>\n",
       "      <th>2043</th>\n",
       "      <td>28-144-sj2-1</td>\n",
       "      <td>2440</td>\n",
       "      <td>144</td>\n",
       "      <td>PrePay-Only - Manly to Chatswood via Royal Nor...</td>\n",
       "      <td>Sydney Buses Network</td>\n",
       "      <td>700</td>\n",
       "      <td>00B5EF</td>\n",
       "      <td>FFFFFF</td>\n",
       "      <td>1</td>\n",
       "    </tr>\n",
       "    <tr>\n",
       "      <th>2046</th>\n",
       "      <td>28-151-sj2-1</td>\n",
       "      <td>2440</td>\n",
       "      <td>151</td>\n",
       "      <td>PrePay-Only - Mona Vale to City QVB</td>\n",
       "      <td>Sydney Buses Network</td>\n",
       "      <td>700</td>\n",
       "      <td>00B5EF</td>\n",
       "      <td>FFFFFF</td>\n",
       "      <td>1</td>\n",
       "    </tr>\n",
       "    <tr>\n",
       "      <th>2051</th>\n",
       "      <td>28-168-sj2-1</td>\n",
       "      <td>2440</td>\n",
       "      <td>168</td>\n",
       "      <td>PrePay-Only - North Balgowlah to Milsons Point</td>\n",
       "      <td>Sydney Buses Network</td>\n",
       "      <td>700</td>\n",
       "      <td>00B5EF</td>\n",
       "      <td>FFFFFF</td>\n",
       "      <td>1</td>\n",
       "    </tr>\n",
       "  </tbody>\n",
       "</table>\n",
       "</div>"
      ],
      "text/plain": [
       "          route_id agency_id route_short_name  \\\n",
       "1779  26-257-sj2-1      2439              257   \n",
       "2042  28-143-sj2-1      2440              143   \n",
       "2043  28-144-sj2-1      2440              144   \n",
       "2046  28-151-sj2-1      2440              151   \n",
       "2051  28-168-sj2-1      2440              168   \n",
       "\n",
       "                                        route_long_name            route_desc  \\\n",
       "1779  PrePay-Only - Balmoral to Chatswood via Crows ...  Sydney Buses Network   \n",
       "2042  PrePay-Only - Manly to Chatswood via Balgowlah...  Sydney Buses Network   \n",
       "2043  PrePay-Only - Manly to Chatswood via Royal Nor...  Sydney Buses Network   \n",
       "2046                PrePay-Only - Mona Vale to City QVB  Sydney Buses Network   \n",
       "2051     PrePay-Only - North Balgowlah to Milsons Point  Sydney Buses Network   \n",
       "\n",
       "      route_type route_color route_text_color  exact_times  \n",
       "1779         700      00B5EF           FFFFFF            1  \n",
       "2042         700      00B5EF           FFFFFF            1  \n",
       "2043         700      00B5EF           FFFFFF            1  \n",
       "2046         700      00B5EF           FFFFFF            1  \n",
       "2051         700      00B5EF           FFFFFF            1  "
      ]
     },
     "execution_count": 26,
     "metadata": {},
     "output_type": "execute_result"
    }
   ],
   "source": [
    "# Only consider routes that are part of the 'Sydney BUses Network'\n",
    "military_Routesdf = routesdf[routesdf['route_desc'] == 'Sydney Buses Network']\n",
    "military_Routesdf.head(5)\n",
    "#military_Routesdf"
   ]
  },
  {
   "cell_type": "code",
   "execution_count": 27,
   "metadata": {
    "scrolled": true
   },
   "outputs": [
    {
     "data": {
      "text/plain": [
       "46"
      ]
     },
     "execution_count": 27,
     "metadata": {},
     "output_type": "execute_result"
    }
   ],
   "source": [
    "# Route id list using 'route_short_name'\n",
    "military_RouteIdLIST = military_Routesdf.route_short_name.astype(str).tolist()\n",
    "\n",
    "# Route id list using 'route_id'\n",
    "military_RouteIdLIST_LONG = military_Routesdf.route_id.astype(str).tolist()\n",
    "\n",
    "len(military_RouteIdLIST)"
   ]
  },
  {
   "cell_type": "code",
   "execution_count": 28,
   "metadata": {},
   "outputs": [],
   "source": [
    "# Now that we have all the routes that we want copy over the original tripsdf by filtering it using all the\n",
    "# routes that we're interested in.\n",
    "\n",
    "tripsdf = tripsdf[tripsdf.route_id.isin(military_RouteIdLIST_LONG)]\n",
    "#tripsdf\n",
    "\n",
    "# Do the same with stop_timesdf.\n",
    "triplist_forStopTimes = tripsdf['trip_id'].unique().tolist()\n",
    "stop_timesdf = stop_timesdf[stop_timesdf['trip_id'].isin(triplist_forStopTimes)]\n",
    "#stop_timesdf\n"
   ]
  },
  {
   "cell_type": "code",
   "execution_count": 29,
   "metadata": {
    "scrolled": false
   },
   "outputs": [],
   "source": [
    "#military_RouteIdLIST"
   ]
  },
  {
   "cell_type": "markdown",
   "metadata": {},
   "source": [
    "## GTFS - Realtime"
   ]
  },
  {
   "cell_type": "markdown",
   "metadata": {},
   "source": [
    "### Cut Down Realtime Data to only Relevant Infomation"
   ]
  },
  {
   "cell_type": "code",
   "execution_count": 30,
   "metadata": {},
   "outputs": [],
   "source": [
    "# Import Big CSV file\n",
    "##filename_SBN = '20200512_0805_TripUpdates_SBN_ALL.csv'\n",
    "##df_TU = pd.read_csv(filename_SBN, dtype = str)\n"
   ]
  },
  {
   "cell_type": "code",
   "execution_count": 31,
   "metadata": {},
   "outputs": [],
   "source": [
    "# Convert arrival time to string containing actual time in time format\n",
    "# Add 10h of seconds to get right timezone\n",
    "##df_TU['arr_time'] = df_TU['arr_time'].map(lambda x: (datetime.utcfromtimestamp(int(x) + 10*60**2).strftime('%H:%M:%S')))"
   ]
  },
  {
   "cell_type": "code",
   "execution_count": 32,
   "metadata": {},
   "outputs": [],
   "source": [
    "##df_TU.sort_values('arr_time').head(2)"
   ]
  },
  {
   "cell_type": "code",
   "execution_count": 33,
   "metadata": {},
   "outputs": [],
   "source": [
    "# Lets see what range of arrival times that we have.\n",
    "# Add 10h of seconds to get right timezone\n",
    "##dummydf = df_TU[df_TU.route_id.str.contains('B1')].sort_values('start_time')\n",
    "##dummydf.head(2)"
   ]
  },
  {
   "cell_type": "code",
   "execution_count": 34,
   "metadata": {},
   "outputs": [],
   "source": [
    "##dummydf.sort_values('arr_time').head(2)"
   ]
  },
  {
   "cell_type": "code",
   "execution_count": 35,
   "metadata": {},
   "outputs": [],
   "source": [
    "# Get the route short name and then filter the big df so that we only get the route ids that we're interested in\n",
    "##df_TU['route_short_name'] = df_TU['route_id'].map(lambda x: x.split('_')[1])\n",
    "##df_TU = df_TU[df_TU.route_short_name.isin(military_RouteIdLIST)]\n",
    "\n",
    "# How many updates are available\n",
    "##len(df_TU)"
   ]
  },
  {
   "cell_type": "code",
   "execution_count": 36,
   "metadata": {},
   "outputs": [],
   "source": [
    "# How many routes have updates\n",
    "##routesWithUpdates = df_TU.route_short_name.unique().tolist()\n",
    "##len(routesWithUpdates)"
   ]
  },
  {
   "cell_type": "code",
   "execution_count": 37,
   "metadata": {},
   "outputs": [],
   "source": [
    "#df_TU.head(2)"
   ]
  },
  {
   "cell_type": "code",
   "execution_count": 38,
   "metadata": {},
   "outputs": [],
   "source": [
    "# Save the condensed dataframe\n",
    "##pathname_MTR = '/home/Military Trip Updates'\n",
    "##filename_MTR = filename_SBN[:-11] + 'MILITARY.csv'\n",
    "##df_TU.to_csv(os.path.join(pathname_MTR, filename_MTR), index = False)"
   ]
  },
  {
   "cell_type": "markdown",
   "metadata": {},
   "source": [
    "### Import and Inspect Filtered Realtime"
   ]
  },
  {
   "cell_type": "code",
   "execution_count": 39,
   "metadata": {
    "scrolled": true
   },
   "outputs": [],
   "source": [
    "#os.listdir(pathname_MTR)\n",
    "#os.listdir(pathname_MTR)[0]"
   ]
  },
  {
   "cell_type": "code",
   "execution_count": 40,
   "metadata": {},
   "outputs": [
    {
     "data": {
      "text/html": [
       "<div>\n",
       "<style scoped>\n",
       "    .dataframe tbody tr th:only-of-type {\n",
       "        vertical-align: middle;\n",
       "    }\n",
       "\n",
       "    .dataframe tbody tr th {\n",
       "        vertical-align: top;\n",
       "    }\n",
       "\n",
       "    .dataframe thead th {\n",
       "        text-align: right;\n",
       "    }\n",
       "</style>\n",
       "<table border=\"1\" class=\"dataframe\">\n",
       "  <thead>\n",
       "    <tr style=\"text-align: right;\">\n",
       "      <th></th>\n",
       "      <th>Unnamed: 0</th>\n",
       "      <th>trip_id</th>\n",
       "      <th>route_id</th>\n",
       "      <th>stop_id</th>\n",
       "      <th>stop_seq</th>\n",
       "      <th>start_time</th>\n",
       "      <th>start_date</th>\n",
       "      <th>arr_time</th>\n",
       "      <th>arr_delay</th>\n",
       "      <th>dep_time</th>\n",
       "      <th>dep_delay</th>\n",
       "      <th>route_short_name</th>\n",
       "    </tr>\n",
       "  </thead>\n",
       "  <tbody>\n",
       "    <tr>\n",
       "      <th>0</th>\n",
       "      <td>19120</td>\n",
       "      <td>1061421</td>\n",
       "      <td>2440_230</td>\n",
       "      <td>206058</td>\n",
       "      <td>26</td>\n",
       "      <td>08:07:00</td>\n",
       "      <td>20200505</td>\n",
       "      <td>08:34:52</td>\n",
       "      <td>-488</td>\n",
       "      <td>1588631712</td>\n",
       "      <td>-468</td>\n",
       "      <td>230</td>\n",
       "    </tr>\n",
       "    <tr>\n",
       "      <th>1</th>\n",
       "      <td>19121</td>\n",
       "      <td>1061421</td>\n",
       "      <td>2440_230</td>\n",
       "      <td>206123</td>\n",
       "      <td>27</td>\n",
       "      <td>08:07:00</td>\n",
       "      <td>20200505</td>\n",
       "      <td>08:35:48</td>\n",
       "      <td>-492</td>\n",
       "      <td>1588631776</td>\n",
       "      <td>-464</td>\n",
       "      <td>230</td>\n",
       "    </tr>\n",
       "  </tbody>\n",
       "</table>\n",
       "</div>"
      ],
      "text/plain": [
       "  Unnamed: 0  trip_id  route_id stop_id stop_seq start_time start_date  \\\n",
       "0      19120  1061421  2440_230  206058       26   08:07:00   20200505   \n",
       "1      19121  1061421  2440_230  206123       27   08:07:00   20200505   \n",
       "\n",
       "   arr_time arr_delay    dep_time dep_delay route_short_name  \n",
       "0  08:34:52      -488  1588631712      -468              230  \n",
       "1  08:35:48      -492  1588631776      -464              230  "
      ]
     },
     "execution_count": 40,
     "metadata": {},
     "output_type": "execute_result"
    }
   ],
   "source": [
    "# Import CSV file\n",
    "pathname_MTR = '/home/Military Trip Updates'\n",
    "\n",
    "# Run this line if filtered trip updates is being used directly\n",
    "filename_MTR = '20200505_0835_TripUpdates_MILITARY.csv'\n",
    "\n",
    "df_TU = pd.read_csv(pathname_MTR+'/'+filename_MTR,dtype = str)\n",
    "df_TU.head(2)\n",
    "\n",
    "#len(df_TU)"
   ]
  },
  {
   "cell_type": "code",
   "execution_count": 41,
   "metadata": {},
   "outputs": [
    {
     "data": {
      "text/plain": [
       "1.1111111111111112"
      ]
     },
     "execution_count": 41,
     "metadata": {},
     "output_type": "execute_result"
    }
   ],
   "source": [
    "#df_TU[df_TU.trip_id =='645213']\n",
    "#df_TU[df_TU.stop_seq =='0']\n",
    "(int(df_TU.dep_time.max()) - int(df_TU.dep_time.min()))/60/60"
   ]
  },
  {
   "cell_type": "code",
   "execution_count": 42,
   "metadata": {},
   "outputs": [
    {
     "data": {
      "text/html": [
       "<div>\n",
       "<style scoped>\n",
       "    .dataframe tbody tr th:only-of-type {\n",
       "        vertical-align: middle;\n",
       "    }\n",
       "\n",
       "    .dataframe tbody tr th {\n",
       "        vertical-align: top;\n",
       "    }\n",
       "\n",
       "    .dataframe thead th {\n",
       "        text-align: right;\n",
       "    }\n",
       "</style>\n",
       "<table border=\"1\" class=\"dataframe\">\n",
       "  <thead>\n",
       "    <tr style=\"text-align: right;\">\n",
       "      <th></th>\n",
       "      <th>trip_id</th>\n",
       "      <th>route_id</th>\n",
       "      <th>stop_id</th>\n",
       "      <th>arr_time</th>\n",
       "      <th>arr_delay</th>\n",
       "      <th>dep_delay</th>\n",
       "      <th>route_short_name</th>\n",
       "    </tr>\n",
       "  </thead>\n",
       "  <tbody>\n",
       "    <tr>\n",
       "      <th>0</th>\n",
       "      <td>1061421</td>\n",
       "      <td>2440_230</td>\n",
       "      <td>206058</td>\n",
       "      <td>08:34:52</td>\n",
       "      <td>-488</td>\n",
       "      <td>-468</td>\n",
       "      <td>230</td>\n",
       "    </tr>\n",
       "    <tr>\n",
       "      <th>1</th>\n",
       "      <td>1061421</td>\n",
       "      <td>2440_230</td>\n",
       "      <td>206123</td>\n",
       "      <td>08:35:48</td>\n",
       "      <td>-492</td>\n",
       "      <td>-464</td>\n",
       "      <td>230</td>\n",
       "    </tr>\n",
       "    <tr>\n",
       "      <th>2</th>\n",
       "      <td>1061421</td>\n",
       "      <td>2440_230</td>\n",
       "      <td>206125</td>\n",
       "      <td>08:37:27</td>\n",
       "      <td>-513</td>\n",
       "      <td>-497</td>\n",
       "      <td>230</td>\n",
       "    </tr>\n",
       "  </tbody>\n",
       "</table>\n",
       "</div>"
      ],
      "text/plain": [
       "   trip_id  route_id stop_id  arr_time arr_delay dep_delay route_short_name\n",
       "0  1061421  2440_230  206058  08:34:52      -488      -468              230\n",
       "1  1061421  2440_230  206123  08:35:48      -492      -464              230\n",
       "2  1061421  2440_230  206125  08:37:27      -513      -497              230"
      ]
     },
     "execution_count": 42,
     "metadata": {},
     "output_type": "execute_result"
    }
   ],
   "source": [
    "# Go through column names and if there are any columns with 'Unnamed' in it then remove it\n",
    "collist = df_TU.columns.values.tolist()\n",
    "\n",
    "for colName in collist:\n",
    "    if 'Unnamed' in colName:\n",
    "        collist.remove(colName)\n",
    "df_TU = df_TU[collist]\n",
    "\n",
    "df_TU.drop(['start_time','dep_time','start_date','stop_seq'], axis = 1, inplace=True)\n",
    "df_TU.head(3)"
   ]
  },
  {
   "cell_type": "code",
   "execution_count": 43,
   "metadata": {},
   "outputs": [
    {
     "data": {
      "text/plain": [
       "\"df_TU['arr_delay_td'] = df_TU.arr_delay.map(lambda x: dt.timedelta(seconds = int(x)))\\ndf_TU['dep_delay_td'] = df_TU.dep_delay.map(lambda x: dt.timedelta(seconds = int(x)))\\n\\ndf_TU.dtypes\""
      ]
     },
     "execution_count": 43,
     "metadata": {},
     "output_type": "execute_result"
    }
   ],
   "source": [
    "'''df_TU['arr_delay_td'] = df_TU.arr_delay.map(lambda x: dt.timedelta(seconds = int(x)))\n",
    "df_TU['dep_delay_td'] = df_TU.dep_delay.map(lambda x: dt.timedelta(seconds = int(x)))\n",
    "\n",
    "df_TU.dtypes'''"
   ]
  },
  {
   "cell_type": "code",
   "execution_count": 44,
   "metadata": {},
   "outputs": [],
   "source": [
    "# Consider only the services that correspond to collected trips\n",
    "TU_tripIdList = df_TU['trip_id'].unique().tolist()\n",
    "#TU_tripIdList\n",
    "\n",
    "# Get the service ids that correspond to these trip_ids\n",
    "TU_ServiceList = tripsdf[tripsdf['trip_id'].isin(TU_tripIdList)]['service_id'].unique().tolist()\n",
    "#TU_ServiceList"
   ]
  },
  {
   "cell_type": "code",
   "execution_count": 45,
   "metadata": {},
   "outputs": [
    {
     "data": {
      "text/html": [
       "<div>\n",
       "<style scoped>\n",
       "    .dataframe tbody tr th:only-of-type {\n",
       "        vertical-align: middle;\n",
       "    }\n",
       "\n",
       "    .dataframe tbody tr th {\n",
       "        vertical-align: top;\n",
       "    }\n",
       "\n",
       "    .dataframe thead th {\n",
       "        text-align: right;\n",
       "    }\n",
       "</style>\n",
       "<table border=\"1\" class=\"dataframe\">\n",
       "  <thead>\n",
       "    <tr style=\"text-align: right;\">\n",
       "      <th></th>\n",
       "      <th>trip_id</th>\n",
       "      <th>arrival_time</th>\n",
       "      <th>stop_sequence</th>\n",
       "      <th>stop_id</th>\n",
       "      <th>route_id</th>\n",
       "      <th>direction_id</th>\n",
       "    </tr>\n",
       "  </thead>\n",
       "  <tbody>\n",
       "    <tr>\n",
       "      <th>0</th>\n",
       "      <td>1138606</td>\n",
       "      <td>06:52:00</td>\n",
       "      <td>1</td>\n",
       "      <td>206718</td>\n",
       "      <td>26-257-sj2-1</td>\n",
       "      <td>0</td>\n",
       "    </tr>\n",
       "    <tr>\n",
       "      <th>1</th>\n",
       "      <td>1138606</td>\n",
       "      <td>06:53:00</td>\n",
       "      <td>2</td>\n",
       "      <td>206730</td>\n",
       "      <td>26-257-sj2-1</td>\n",
       "      <td>0</td>\n",
       "    </tr>\n",
       "    <tr>\n",
       "      <th>2</th>\n",
       "      <td>1138606</td>\n",
       "      <td>06:54:00</td>\n",
       "      <td>3</td>\n",
       "      <td>206731</td>\n",
       "      <td>26-257-sj2-1</td>\n",
       "      <td>0</td>\n",
       "    </tr>\n",
       "    <tr>\n",
       "      <th>3</th>\n",
       "      <td>1138606</td>\n",
       "      <td>06:55:00</td>\n",
       "      <td>4</td>\n",
       "      <td>206732</td>\n",
       "      <td>26-257-sj2-1</td>\n",
       "      <td>0</td>\n",
       "    </tr>\n",
       "    <tr>\n",
       "      <th>4</th>\n",
       "      <td>1138606</td>\n",
       "      <td>06:55:00</td>\n",
       "      <td>5</td>\n",
       "      <td>206733</td>\n",
       "      <td>26-257-sj2-1</td>\n",
       "      <td>0</td>\n",
       "    </tr>\n",
       "  </tbody>\n",
       "</table>\n",
       "</div>"
      ],
      "text/plain": [
       "   trip_id arrival_time stop_sequence stop_id      route_id  direction_id\n",
       "0  1138606     06:52:00             1  206718  26-257-sj2-1             0\n",
       "1  1138606     06:53:00             2  206730  26-257-sj2-1             0\n",
       "2  1138606     06:54:00             3  206731  26-257-sj2-1             0\n",
       "3  1138606     06:55:00             4  206732  26-257-sj2-1             0\n",
       "4  1138606     06:55:00             5  206733  26-257-sj2-1             0"
      ]
     },
     "execution_count": 45,
     "metadata": {},
     "output_type": "execute_result"
    }
   ],
   "source": [
    "# !!!Determine the nominal headway & bus in-front from 'stop_timesdf'!!!\n",
    "# Get parts of 'stop_timesdf' and 'tripsdf' that we need\n",
    "df1 = stop_timesdf[['trip_id', 'arrival_time', 'stop_sequence', 'stop_id']]\n",
    "df2 = tripsdf[tripsdf['service_id'].isin(TU_ServiceList)][['route_id', 'trip_id', 'direction_id']]\n",
    "\n",
    "# Construct df for calculating headways\n",
    "stopsdf_headwy = pd.merge(df1, df2, how = 'inner', on = 'trip_id')\n",
    "stopsdf_headwy.head()"
   ]
  },
  {
   "cell_type": "code",
   "execution_count": 46,
   "metadata": {
    "scrolled": true
   },
   "outputs": [],
   "source": [
    "# Filter out arrival times that we don't want and convert arrival times to datetimes \n",
    "# Filter out arrival times that are greater than 23:59\n",
    "stopsdf_headwy['drop_me'] = stopsdf_headwy['arrival_time'].map(lambda x: int(str(x)[:2])-24)\n",
    "\n",
    "# Nothing after 9pm\n",
    "# Nothing before 6am\n",
    "# Nothing between 11 am - 2pm\n",
    "\n",
    "# Only consider times that are less than 23:59\n",
    "stopsdf_headwy = stopsdf_headwy[(stopsdf_headwy['drop_me']<0)]\n",
    "#stopsdf_headwy = stopsdf_headwy[(stopsdf_headwy['drop_me']<-3) & (stopsdf_headwy['drop_me']>-10) | ((stopsdf_headwy['drop_me']>-18) & (stopsdf_headwy['drop_me']<-13))]\n",
    "\n",
    "# Add date to 'arrival_time' column then convert to datetime\n",
    "date = filename_MTR[0:8]\n",
    "#stopsdf_headwy['arrival_timedate'] = stopsdf_headwy['arrival_time'] + ' ' + date\n",
    "\n",
    "#stopsdf_headwy\n",
    "stopsdf_headwy['scheduled_arrival_time_dt'] = stopsdf_headwy['arrival_time'].map(lambda x: datetime.strptime(''.join((x, ' ', date)),'%H:%M:%S %Y%m%d'))\n",
    "\n",
    "stopsdf_headwy.drop('drop_me', axis=1, inplace = True)\n",
    "\n",
    "#stopsdf_headwy.head()"
   ]
  },
  {
   "cell_type": "code",
   "execution_count": 47,
   "metadata": {},
   "outputs": [
    {
     "data": {
      "text/html": [
       "<div>\n",
       "<style scoped>\n",
       "    .dataframe tbody tr th:only-of-type {\n",
       "        vertical-align: middle;\n",
       "    }\n",
       "\n",
       "    .dataframe tbody tr th {\n",
       "        vertical-align: top;\n",
       "    }\n",
       "\n",
       "    .dataframe thead th {\n",
       "        text-align: right;\n",
       "    }\n",
       "</style>\n",
       "<table border=\"1\" class=\"dataframe\">\n",
       "  <thead>\n",
       "    <tr style=\"text-align: right;\">\n",
       "      <th></th>\n",
       "      <th>trip_id</th>\n",
       "      <th>arrival_time</th>\n",
       "      <th>stop_sequence</th>\n",
       "      <th>stop_id</th>\n",
       "      <th>route_id</th>\n",
       "      <th>direction_id</th>\n",
       "      <th>scheduled_arrival_time_dt</th>\n",
       "    </tr>\n",
       "  </thead>\n",
       "  <tbody>\n",
       "    <tr>\n",
       "      <th>0</th>\n",
       "      <td>1138606</td>\n",
       "      <td>06:52:00</td>\n",
       "      <td>1</td>\n",
       "      <td>206718</td>\n",
       "      <td>26-257-sj2-1</td>\n",
       "      <td>0</td>\n",
       "      <td>2020-05-05 06:52:00</td>\n",
       "    </tr>\n",
       "    <tr>\n",
       "      <th>1</th>\n",
       "      <td>1138606</td>\n",
       "      <td>06:53:00</td>\n",
       "      <td>2</td>\n",
       "      <td>206730</td>\n",
       "      <td>26-257-sj2-1</td>\n",
       "      <td>0</td>\n",
       "      <td>2020-05-05 06:53:00</td>\n",
       "    </tr>\n",
       "    <tr>\n",
       "      <th>2</th>\n",
       "      <td>1138606</td>\n",
       "      <td>06:54:00</td>\n",
       "      <td>3</td>\n",
       "      <td>206731</td>\n",
       "      <td>26-257-sj2-1</td>\n",
       "      <td>0</td>\n",
       "      <td>2020-05-05 06:54:00</td>\n",
       "    </tr>\n",
       "    <tr>\n",
       "      <th>3</th>\n",
       "      <td>1138606</td>\n",
       "      <td>06:55:00</td>\n",
       "      <td>4</td>\n",
       "      <td>206732</td>\n",
       "      <td>26-257-sj2-1</td>\n",
       "      <td>0</td>\n",
       "      <td>2020-05-05 06:55:00</td>\n",
       "    </tr>\n",
       "    <tr>\n",
       "      <th>4</th>\n",
       "      <td>1138606</td>\n",
       "      <td>06:55:00</td>\n",
       "      <td>5</td>\n",
       "      <td>206733</td>\n",
       "      <td>26-257-sj2-1</td>\n",
       "      <td>0</td>\n",
       "      <td>2020-05-05 06:55:00</td>\n",
       "    </tr>\n",
       "  </tbody>\n",
       "</table>\n",
       "</div>"
      ],
      "text/plain": [
       "   trip_id arrival_time stop_sequence stop_id      route_id  direction_id  \\\n",
       "0  1138606     06:52:00             1  206718  26-257-sj2-1             0   \n",
       "1  1138606     06:53:00             2  206730  26-257-sj2-1             0   \n",
       "2  1138606     06:54:00             3  206731  26-257-sj2-1             0   \n",
       "3  1138606     06:55:00             4  206732  26-257-sj2-1             0   \n",
       "4  1138606     06:55:00             5  206733  26-257-sj2-1             0   \n",
       "\n",
       "  scheduled_arrival_time_dt  \n",
       "0       2020-05-05 06:52:00  \n",
       "1       2020-05-05 06:53:00  \n",
       "2       2020-05-05 06:54:00  \n",
       "3       2020-05-05 06:55:00  \n",
       "4       2020-05-05 06:55:00  "
      ]
     },
     "execution_count": 47,
     "metadata": {},
     "output_type": "execute_result"
    }
   ],
   "source": [
    "stopsdf_headwy.head()"
   ]
  },
  {
   "cell_type": "code",
   "execution_count": 48,
   "metadata": {},
   "outputs": [],
   "source": [
    "# Only consider the times 20 mins either side of all data collected\n",
    "\n",
    "# First get the start and end time of the data that was collected\n",
    "startTime_str = df_TU.sort_values('arr_time').reset_index(drop=True).iloc[0]['arr_time']\n",
    "endTime_str = df_TU.sort_values('arr_time').reset_index(drop=True).iloc[len(df_TU)-1]['arr_time']\n",
    "\n",
    "# Convert start and end time to a datetime\n",
    "startTime_dt = datetime.strptime(''.join((str(startTime_str), ' ', date)),'%H:%M:%S %Y%m%d')\n",
    "endTime_dt = datetime.strptime(''.join((str(endTime_str), ' ', date)),'%H:%M:%S %Y%m%d')\n",
    "\n",
    "# Subtract 100 mins from start time and add 20 mins to end time to get all trips of interest in 'stopsdf_headwy'\n",
    "# Later this time will be refined. We just need headway times for the buses at the start\n",
    "bufferTime_before = dt.timedelta(seconds = 1*60*100)\n",
    "bufferTime_after = dt.timedelta(seconds = 1*60*20)\n",
    "startTimeHorizon_dt = startTime_dt - bufferTime_before\n",
    "endTimeHorizon_dt = endTime_dt + bufferTime_after\n",
    "\n",
    "# Filter 'stopsdf_headwy' to only consider the times between the time horizon\n",
    "stopsdf_headwy = stopsdf_headwy[(stopsdf_headwy['scheduled_arrival_time_dt']>startTimeHorizon_dt) & (stopsdf_headwy['scheduled_arrival_time_dt']<endTimeHorizon_dt)]\n",
    "#stopsdf_headwy.sort_values('scheduled_arrival_time_dt')"
   ]
  },
  {
   "cell_type": "code",
   "execution_count": 49,
   "metadata": {},
   "outputs": [],
   "source": [
    "#df_TU.head(2)"
   ]
  },
  {
   "cell_type": "code",
   "execution_count": 50,
   "metadata": {},
   "outputs": [],
   "source": [
    "# Ensure that the stop sequence is an integer for proper sorting\n",
    "stopsdf_headwy.stop_sequence = stopsdf_headwy.stop_sequence.astype(int)"
   ]
  },
  {
   "cell_type": "code",
   "execution_count": 51,
   "metadata": {},
   "outputs": [
    {
     "data": {
      "text/html": [
       "<div>\n",
       "<style scoped>\n",
       "    .dataframe tbody tr th:only-of-type {\n",
       "        vertical-align: middle;\n",
       "    }\n",
       "\n",
       "    .dataframe tbody tr th {\n",
       "        vertical-align: top;\n",
       "    }\n",
       "\n",
       "    .dataframe thead th {\n",
       "        text-align: right;\n",
       "    }\n",
       "</style>\n",
       "<table border=\"1\" class=\"dataframe\">\n",
       "  <thead>\n",
       "    <tr style=\"text-align: right;\">\n",
       "      <th></th>\n",
       "      <th>trip_id</th>\n",
       "      <th>arrival_time</th>\n",
       "      <th>stop_sequence</th>\n",
       "      <th>stop_id</th>\n",
       "      <th>route_id</th>\n",
       "      <th>direction_id</th>\n",
       "      <th>scheduled_arrival_time_dt</th>\n",
       "    </tr>\n",
       "  </thead>\n",
       "  <tbody>\n",
       "    <tr>\n",
       "      <th>506</th>\n",
       "      <td>1137635</td>\n",
       "      <td>09:44:00</td>\n",
       "      <td>1</td>\n",
       "      <td>206718</td>\n",
       "      <td>26-257-sj2-1</td>\n",
       "      <td>0</td>\n",
       "      <td>2020-05-05 09:44:00</td>\n",
       "    </tr>\n",
       "    <tr>\n",
       "      <th>464</th>\n",
       "      <td>1137634</td>\n",
       "      <td>09:22:00</td>\n",
       "      <td>1</td>\n",
       "      <td>206718</td>\n",
       "      <td>26-257-sj2-1</td>\n",
       "      <td>0</td>\n",
       "      <td>2020-05-05 09:22:00</td>\n",
       "    </tr>\n",
       "    <tr>\n",
       "      <th>968</th>\n",
       "      <td>1138040</td>\n",
       "      <td>09:02:00</td>\n",
       "      <td>1</td>\n",
       "      <td>206718</td>\n",
       "      <td>26-257-sj2-1</td>\n",
       "      <td>0</td>\n",
       "      <td>2020-05-05 09:02:00</td>\n",
       "    </tr>\n",
       "    <tr>\n",
       "      <th>1052</th>\n",
       "      <td>1138087</td>\n",
       "      <td>08:42:00</td>\n",
       "      <td>1</td>\n",
       "      <td>206718</td>\n",
       "      <td>26-257-sj2-1</td>\n",
       "      <td>0</td>\n",
       "      <td>2020-05-05 08:42:00</td>\n",
       "    </tr>\n",
       "    <tr>\n",
       "      <th>1010</th>\n",
       "      <td>1138086</td>\n",
       "      <td>08:22:00</td>\n",
       "      <td>1</td>\n",
       "      <td>206718</td>\n",
       "      <td>26-257-sj2-1</td>\n",
       "      <td>0</td>\n",
       "      <td>2020-05-05 08:22:00</td>\n",
       "    </tr>\n",
       "  </tbody>\n",
       "</table>\n",
       "</div>"
      ],
      "text/plain": [
       "      trip_id arrival_time  stop_sequence stop_id      route_id  direction_id  \\\n",
       "506   1137635     09:44:00              1  206718  26-257-sj2-1             0   \n",
       "464   1137634     09:22:00              1  206718  26-257-sj2-1             0   \n",
       "968   1138040     09:02:00              1  206718  26-257-sj2-1             0   \n",
       "1052  1138087     08:42:00              1  206718  26-257-sj2-1             0   \n",
       "1010  1138086     08:22:00              1  206718  26-257-sj2-1             0   \n",
       "\n",
       "     scheduled_arrival_time_dt  \n",
       "506        2020-05-05 09:44:00  \n",
       "464        2020-05-05 09:22:00  \n",
       "968        2020-05-05 09:02:00  \n",
       "1052       2020-05-05 08:42:00  \n",
       "1010       2020-05-05 08:22:00  "
      ]
     },
     "execution_count": 51,
     "metadata": {},
     "output_type": "execute_result"
    }
   ],
   "source": [
    "# In this cell the values of 'stopsdf_headwy' are sorted and the headway calculated\n",
    "stopsdf_headwy.sort_values(['direction_id','route_id','stop_sequence','scheduled_arrival_time_dt'],ascending = (True,True,True,False),inplace=True)\n",
    "stopsdf_headwy.head()"
   ]
  },
  {
   "cell_type": "code",
   "execution_count": 52,
   "metadata": {},
   "outputs": [],
   "source": [
    "#stopsdf_headwy[['direction_id','route_id','stop_sequence']].iloc[i].values.tolist()"
   ]
  },
  {
   "cell_type": "code",
   "execution_count": 53,
   "metadata": {},
   "outputs": [],
   "source": [
    "# Initialise empty column for calculation of nominal headways\n",
    "stopsdf_headwy['headway_nominal'] = np.nan\n",
    "\n",
    "# Reset index for loop below.\n",
    "stopsdf_headwy.reset_index(drop = True, inplace = True)"
   ]
  },
  {
   "cell_type": "code",
   "execution_count": 54,
   "metadata": {},
   "outputs": [],
   "source": [
    "# Go through the 'stopsdf_headwy' and calculate the nominal headways and the trip_id of the bus in front\n",
    "index_nums = stopsdf_headwy.index.values.tolist()\n",
    "\n",
    "\n",
    "for i in index_nums[:-1]:\n",
    "    \n",
    "\n",
    "    # If, this bus is NOT the last bus that will visit this stop from this route, AND/OR\n",
    "    # this is NOT the only bus that visited this stop from this route. \n",
    "    # THEN, set the nominal headway will be calculated    \n",
    "    if (stopsdf_headwy[['direction_id','route_id','stop_sequence']].iloc[i].values.tolist() == stopsdf_headwy[['direction_id','route_id','stop_sequence']].iloc[i+1].values.tolist()):\n",
    "        # Calculate the nominal headway.\n",
    "        # NOTE:\n",
    "        # This calculation is only appropriate when the values for \n",
    "        # ['direction_id','route_id','stop_sequence'] \n",
    "        # are the same as those in the next row.\n",
    "        # This is not the case if this is the last bus that visited that stop from this route, OR\n",
    "        # This is the only bus that visited this stop from this route.\n",
    "        stopsdf_headwy.at[i,'headway_nominal'] = stopsdf_headwy.at[i, 'scheduled_arrival_time_dt'] - stopsdf_headwy.at[i+1, 'scheduled_arrival_time_dt']    \n",
    "\n",
    "#stopsdf_headwy"
   ]
  },
  {
   "cell_type": "code",
   "execution_count": 55,
   "metadata": {},
   "outputs": [],
   "source": [
    "#stopsdf_headwy.head()"
   ]
  },
  {
   "cell_type": "code",
   "execution_count": 56,
   "metadata": {
    "scrolled": true
   },
   "outputs": [
    {
     "data": {
      "image/png": "[encoded data removed]",
      "text/plain": [
       "<Figure size 432x288 with 1 Axes>"
      ]
     },
     "metadata": {
      "needs_background": "light"
     },
     "output_type": "display_data"
    }
   ],
   "source": [
    "# Check how many NaN results there are.\n",
    "plt.hist(stopsdf_headwy[(stopsdf_headwy['headway_nominal'].isnull())]['scheduled_arrival_time_dt'],bins = 30,density = False)\n",
    "# What is the probability that a given stop time ..FILL IN.. is true\n",
    "plt.xticks(rotation=90)\n",
    "plt.xlabel('Buses without designated headways')\n",
    "plt.ylabel('Probability')\n",
    "plt.ylim(0,30)\n",
    "plt.show()"
   ]
  },
  {
   "cell_type": "code",
   "execution_count": 57,
   "metadata": {},
   "outputs": [],
   "source": [
    "# Make 'route_short_name' column - will need this for later\n",
    "stopsdf_headwy['route_short_name'] = stopsdf_headwy['route_id'].str.split('-').str[1]"
   ]
  },
  {
   "cell_type": "code",
   "execution_count": 58,
   "metadata": {},
   "outputs": [],
   "source": [
    "# Rename 'arrival_time' in 'df_TU to be 'arr_time'\n",
    "stopsdf_headwy.rename(columns = {'arrival_time':'arr_time'},inplace=True)"
   ]
  },
  {
   "cell_type": "code",
   "execution_count": 59,
   "metadata": {},
   "outputs": [],
   "source": [
    "# Initialise columns in 'stopsdf_headwy' that we need in df_TU\n",
    "\n",
    "# Initially assume that there is zero delay\n",
    "stopsdf_headwy['arr_delay'] = 0\n",
    "stopsdf_headwy['dep_delay'] = 0"
   ]
  },
  {
   "cell_type": "code",
   "execution_count": 60,
   "metadata": {},
   "outputs": [],
   "source": [
    "# Drop the 'route_id' column in the 'df_TU' dataframe. The route id column will come from 'stopsdf_headwy'\n",
    "df_TU.drop('route_id', axis=1, inplace = True)"
   ]
  },
  {
   "cell_type": "code",
   "execution_count": 61,
   "metadata": {
    "scrolled": true
   },
   "outputs": [],
   "source": [
    "#df_TU.dtypes"
   ]
  },
  {
   "cell_type": "code",
   "execution_count": 62,
   "metadata": {},
   "outputs": [],
   "source": [
    "#stopsdf_headwy['updated'] = np.NaN\n",
    "\n",
    "# Define a loop that goes through and inputs every value of df_TU into stopsdf_headway\n",
    "index_nums3 = df_TU.index.values.tolist()\n",
    "\n",
    "for i in index_nums3:\n",
    "    \n",
    "    # Index in stopsdf_headwy that needs to be changed\n",
    "    j = int(stopsdf_headwy[['trip_id','stop_id']].isin(df_TU[['trip_id','stop_id']].iloc[i].values.tolist()).sort_values(['trip_id','stop_id']).last_valid_index())\n",
    "    \n",
    "    # Input realtime values into stopsdf_headway values for \n",
    "    #stopsdf_headwy['arr_time'].iloc[j] = df_TU['arr_time'].iloc[i]\n",
    "    #stopsdf_headwy['arr_delay'].iloc[j] = df_TU['arr_delay'].iloc[i]\n",
    "    #stopsdf_headwy['dep_delay'].iloc[j] = df_TU['dep_delay'].iloc[i]\n",
    "    stopsdf_headwy.at[j, 'arr_time'] = df_TU.at[i, 'arr_time']\n",
    "    stopsdf_headwy.at[j, 'arr_delay'] = df_TU.at[i, 'arr_delay']\n",
    "    stopsdf_headwy.at[j, 'dep_delay'] = df_TU.at[i, 'dep_delay']\n",
    "    \n",
    "\n",
    "    \n",
    "    #print([i,j])\n",
    "    \n",
    "    del(j)\n"
   ]
  },
  {
   "cell_type": "code",
   "execution_count": 63,
   "metadata": {},
   "outputs": [],
   "source": [
    "#stopsdf_headwy[stopsdf_headwy['arr_delay'] != 0].head(3)\n",
    "#stopsdf_headwy.sort_values('updated',ascending=True)"
   ]
  },
  {
   "cell_type": "code",
   "execution_count": 64,
   "metadata": {},
   "outputs": [
    {
     "data": {
      "text/html": [
       "<div>\n",
       "<style scoped>\n",
       "    .dataframe tbody tr th:only-of-type {\n",
       "        vertical-align: middle;\n",
       "    }\n",
       "\n",
       "    .dataframe tbody tr th {\n",
       "        vertical-align: top;\n",
       "    }\n",
       "\n",
       "    .dataframe thead th {\n",
       "        text-align: right;\n",
       "    }\n",
       "</style>\n",
       "<table border=\"1\" class=\"dataframe\">\n",
       "  <thead>\n",
       "    <tr style=\"text-align: right;\">\n",
       "      <th></th>\n",
       "      <th>trip_id</th>\n",
       "      <th>arr_time</th>\n",
       "      <th>stop_sequence</th>\n",
       "      <th>stop_id</th>\n",
       "      <th>route_id</th>\n",
       "      <th>direction_id</th>\n",
       "      <th>scheduled_arrival_time_dt</th>\n",
       "      <th>headway_nominal</th>\n",
       "      <th>route_short_name</th>\n",
       "      <th>arr_delay</th>\n",
       "      <th>dep_delay</th>\n",
       "      <th>is_on_MTR</th>\n",
       "    </tr>\n",
       "  </thead>\n",
       "  <tbody>\n",
       "    <tr>\n",
       "      <th>0</th>\n",
       "      <td>1137635</td>\n",
       "      <td>09:44:00</td>\n",
       "      <td>1</td>\n",
       "      <td>206718</td>\n",
       "      <td>26-257-sj2-1</td>\n",
       "      <td>0</td>\n",
       "      <td>2020-05-05 09:44:00</td>\n",
       "      <td>0 days 00:22:00</td>\n",
       "      <td>257</td>\n",
       "      <td>0</td>\n",
       "      <td>0</td>\n",
       "      <td>False</td>\n",
       "    </tr>\n",
       "    <tr>\n",
       "      <th>1</th>\n",
       "      <td>1137634</td>\n",
       "      <td>09:22:00</td>\n",
       "      <td>1</td>\n",
       "      <td>206718</td>\n",
       "      <td>26-257-sj2-1</td>\n",
       "      <td>0</td>\n",
       "      <td>2020-05-05 09:22:00</td>\n",
       "      <td>0 days 00:20:00</td>\n",
       "      <td>257</td>\n",
       "      <td>0</td>\n",
       "      <td>0</td>\n",
       "      <td>False</td>\n",
       "    </tr>\n",
       "    <tr>\n",
       "      <th>2</th>\n",
       "      <td>1138040</td>\n",
       "      <td>09:02:00</td>\n",
       "      <td>1</td>\n",
       "      <td>206718</td>\n",
       "      <td>26-257-sj2-1</td>\n",
       "      <td>0</td>\n",
       "      <td>2020-05-05 09:02:00</td>\n",
       "      <td>0 days 00:20:00</td>\n",
       "      <td>257</td>\n",
       "      <td>0</td>\n",
       "      <td>0</td>\n",
       "      <td>False</td>\n",
       "    </tr>\n",
       "  </tbody>\n",
       "</table>\n",
       "</div>"
      ],
      "text/plain": [
       "   trip_id  arr_time  stop_sequence stop_id      route_id  direction_id  \\\n",
       "0  1137635  09:44:00              1  206718  26-257-sj2-1             0   \n",
       "1  1137634  09:22:00              1  206718  26-257-sj2-1             0   \n",
       "2  1138040  09:02:00              1  206718  26-257-sj2-1             0   \n",
       "\n",
       "  scheduled_arrival_time_dt  headway_nominal route_short_name  arr_delay  \\\n",
       "0       2020-05-05 09:44:00  0 days 00:22:00              257          0   \n",
       "1       2020-05-05 09:22:00  0 days 00:20:00              257          0   \n",
       "2       2020-05-05 09:02:00  0 days 00:20:00              257          0   \n",
       "\n",
       "   dep_delay  is_on_MTR  \n",
       "0          0      False  \n",
       "1          0      False  \n",
       "2          0      False  "
      ]
     },
     "execution_count": 64,
     "metadata": {},
     "output_type": "execute_result"
    }
   ],
   "source": [
    "# Prepare df for obtaining trip direction at the end of this code\n",
    "# Make a column in 'stopsdf_headwy' that indicates if we're on MTR or not\n",
    "stopsdf_headwy['is_on_MTR'] = stopsdf_headwy['stop_id'].isin(stopslist)\n",
    "\n",
    "stopsdf_headwy.head(3)"
   ]
  },
  {
   "cell_type": "code",
   "execution_count": 65,
   "metadata": {},
   "outputs": [],
   "source": [
    "# Convert arrival and departure delays to datetimes\n",
    "stopsdf_headwy['arr_delay_td'] = stopsdf_headwy.arr_delay.map(lambda x: dt.timedelta(seconds = int(x)))\n",
    "stopsdf_headwy['dep_delay_td'] = stopsdf_headwy.dep_delay.map(lambda x: dt.timedelta(seconds = int(x)))\n",
    "\n",
    "#df_TU.dtypes"
   ]
  },
  {
   "cell_type": "code",
   "execution_count": 66,
   "metadata": {},
   "outputs": [
    {
     "data": {
      "text/html": [
       "<div>\n",
       "<style scoped>\n",
       "    .dataframe tbody tr th:only-of-type {\n",
       "        vertical-align: middle;\n",
       "    }\n",
       "\n",
       "    .dataframe tbody tr th {\n",
       "        vertical-align: top;\n",
       "    }\n",
       "\n",
       "    .dataframe thead th {\n",
       "        text-align: right;\n",
       "    }\n",
       "</style>\n",
       "<table border=\"1\" class=\"dataframe\">\n",
       "  <thead>\n",
       "    <tr style=\"text-align: right;\">\n",
       "      <th></th>\n",
       "      <th>trip_id</th>\n",
       "      <th>arr_time</th>\n",
       "      <th>stop_sequence</th>\n",
       "      <th>stop_id</th>\n",
       "      <th>route_id</th>\n",
       "      <th>direction_id</th>\n",
       "      <th>scheduled_arrival_time_dt</th>\n",
       "      <th>headway_nominal</th>\n",
       "      <th>route_short_name</th>\n",
       "      <th>arr_delay</th>\n",
       "      <th>dep_delay</th>\n",
       "      <th>is_on_MTR</th>\n",
       "      <th>arr_delay_td</th>\n",
       "      <th>dep_delay_td</th>\n",
       "    </tr>\n",
       "  </thead>\n",
       "  <tbody>\n",
       "    <tr>\n",
       "      <th>0</th>\n",
       "      <td>1137635</td>\n",
       "      <td>09:44:00</td>\n",
       "      <td>1</td>\n",
       "      <td>206718</td>\n",
       "      <td>26-257-sj2-1</td>\n",
       "      <td>0</td>\n",
       "      <td>2020-05-05 09:44:00</td>\n",
       "      <td>0 days 00:22:00</td>\n",
       "      <td>257</td>\n",
       "      <td>0</td>\n",
       "      <td>0</td>\n",
       "      <td>False</td>\n",
       "      <td>0 days</td>\n",
       "      <td>0 days</td>\n",
       "    </tr>\n",
       "    <tr>\n",
       "      <th>1</th>\n",
       "      <td>1137634</td>\n",
       "      <td>09:22:00</td>\n",
       "      <td>1</td>\n",
       "      <td>206718</td>\n",
       "      <td>26-257-sj2-1</td>\n",
       "      <td>0</td>\n",
       "      <td>2020-05-05 09:22:00</td>\n",
       "      <td>0 days 00:20:00</td>\n",
       "      <td>257</td>\n",
       "      <td>0</td>\n",
       "      <td>0</td>\n",
       "      <td>False</td>\n",
       "      <td>0 days</td>\n",
       "      <td>0 days</td>\n",
       "    </tr>\n",
       "    <tr>\n",
       "      <th>2</th>\n",
       "      <td>1138040</td>\n",
       "      <td>09:02:00</td>\n",
       "      <td>1</td>\n",
       "      <td>206718</td>\n",
       "      <td>26-257-sj2-1</td>\n",
       "      <td>0</td>\n",
       "      <td>2020-05-05 09:02:00</td>\n",
       "      <td>0 days 00:20:00</td>\n",
       "      <td>257</td>\n",
       "      <td>0</td>\n",
       "      <td>0</td>\n",
       "      <td>False</td>\n",
       "      <td>0 days</td>\n",
       "      <td>0 days</td>\n",
       "    </tr>\n",
       "  </tbody>\n",
       "</table>\n",
       "</div>"
      ],
      "text/plain": [
       "   trip_id  arr_time  stop_sequence stop_id      route_id  direction_id  \\\n",
       "0  1137635  09:44:00              1  206718  26-257-sj2-1             0   \n",
       "1  1137634  09:22:00              1  206718  26-257-sj2-1             0   \n",
       "2  1138040  09:02:00              1  206718  26-257-sj2-1             0   \n",
       "\n",
       "  scheduled_arrival_time_dt  headway_nominal route_short_name  arr_delay  \\\n",
       "0       2020-05-05 09:44:00  0 days 00:22:00              257          0   \n",
       "1       2020-05-05 09:22:00  0 days 00:20:00              257          0   \n",
       "2       2020-05-05 09:02:00  0 days 00:20:00              257          0   \n",
       "\n",
       "   dep_delay  is_on_MTR arr_delay_td dep_delay_td  \n",
       "0          0      False       0 days       0 days  \n",
       "1          0      False       0 days       0 days  \n",
       "2          0      False       0 days       0 days  "
      ]
     },
     "execution_count": 66,
     "metadata": {},
     "output_type": "execute_result"
    }
   ],
   "source": [
    "stopsdf_headwy.head(3)"
   ]
  },
  {
   "cell_type": "code",
   "execution_count": 67,
   "metadata": {},
   "outputs": [],
   "source": [
    "# Determine the actual time that the bus 'arrived' at the stop\n",
    "stopsdf_headwy['actual_arrival_time_dt'] = stopsdf_headwy['scheduled_arrival_time_dt'] + stopsdf_headwy['arr_delay_td']\n",
    "#df_TU"
   ]
  },
  {
   "cell_type": "code",
   "execution_count": 68,
   "metadata": {},
   "outputs": [],
   "source": [
    "# Condense df_TU dataframe by removing some columns\n",
    "#df_TU_condensed = df_TU.drop(['Unnamed: 0.1', 'start_date', 'arr_time', 'dep_time', 'start_time'], axis=1)\n",
    "df_TU_condensed = stopsdf_headwy.drop(['arr_time'], axis=1).copy()"
   ]
  },
  {
   "cell_type": "code",
   "execution_count": 69,
   "metadata": {},
   "outputs": [
    {
     "data": {
      "text/html": [
       "<div>\n",
       "<style scoped>\n",
       "    .dataframe tbody tr th:only-of-type {\n",
       "        vertical-align: middle;\n",
       "    }\n",
       "\n",
       "    .dataframe tbody tr th {\n",
       "        vertical-align: top;\n",
       "    }\n",
       "\n",
       "    .dataframe thead th {\n",
       "        text-align: right;\n",
       "    }\n",
       "</style>\n",
       "<table border=\"1\" class=\"dataframe\">\n",
       "  <thead>\n",
       "    <tr style=\"text-align: right;\">\n",
       "      <th></th>\n",
       "      <th>trip_id</th>\n",
       "      <th>stop_sequence</th>\n",
       "      <th>stop_id</th>\n",
       "      <th>route_id</th>\n",
       "      <th>direction_id</th>\n",
       "      <th>scheduled_arrival_time_dt</th>\n",
       "      <th>headway_nominal</th>\n",
       "      <th>route_short_name</th>\n",
       "      <th>arr_delay</th>\n",
       "      <th>dep_delay</th>\n",
       "      <th>is_on_MTR</th>\n",
       "      <th>arr_delay_td</th>\n",
       "      <th>dep_delay_td</th>\n",
       "      <th>actual_arrival_time_dt</th>\n",
       "    </tr>\n",
       "  </thead>\n",
       "  <tbody>\n",
       "    <tr>\n",
       "      <th>0</th>\n",
       "      <td>1137635</td>\n",
       "      <td>1</td>\n",
       "      <td>206718</td>\n",
       "      <td>26-257-sj2-1</td>\n",
       "      <td>0</td>\n",
       "      <td>2020-05-05 09:44:00</td>\n",
       "      <td>0 days 00:22:00</td>\n",
       "      <td>257</td>\n",
       "      <td>0</td>\n",
       "      <td>0</td>\n",
       "      <td>False</td>\n",
       "      <td>0 days</td>\n",
       "      <td>0 days</td>\n",
       "      <td>2020-05-05 09:44:00</td>\n",
       "    </tr>\n",
       "    <tr>\n",
       "      <th>1</th>\n",
       "      <td>1137634</td>\n",
       "      <td>1</td>\n",
       "      <td>206718</td>\n",
       "      <td>26-257-sj2-1</td>\n",
       "      <td>0</td>\n",
       "      <td>2020-05-05 09:22:00</td>\n",
       "      <td>0 days 00:20:00</td>\n",
       "      <td>257</td>\n",
       "      <td>0</td>\n",
       "      <td>0</td>\n",
       "      <td>False</td>\n",
       "      <td>0 days</td>\n",
       "      <td>0 days</td>\n",
       "      <td>2020-05-05 09:22:00</td>\n",
       "    </tr>\n",
       "    <tr>\n",
       "      <th>2</th>\n",
       "      <td>1138040</td>\n",
       "      <td>1</td>\n",
       "      <td>206718</td>\n",
       "      <td>26-257-sj2-1</td>\n",
       "      <td>0</td>\n",
       "      <td>2020-05-05 09:02:00</td>\n",
       "      <td>0 days 00:20:00</td>\n",
       "      <td>257</td>\n",
       "      <td>0</td>\n",
       "      <td>0</td>\n",
       "      <td>False</td>\n",
       "      <td>0 days</td>\n",
       "      <td>0 days</td>\n",
       "      <td>2020-05-05 09:02:00</td>\n",
       "    </tr>\n",
       "  </tbody>\n",
       "</table>\n",
       "</div>"
      ],
      "text/plain": [
       "   trip_id  stop_sequence stop_id      route_id  direction_id  \\\n",
       "0  1137635              1  206718  26-257-sj2-1             0   \n",
       "1  1137634              1  206718  26-257-sj2-1             0   \n",
       "2  1138040              1  206718  26-257-sj2-1             0   \n",
       "\n",
       "  scheduled_arrival_time_dt  headway_nominal route_short_name  arr_delay  \\\n",
       "0       2020-05-05 09:44:00  0 days 00:22:00              257          0   \n",
       "1       2020-05-05 09:22:00  0 days 00:20:00              257          0   \n",
       "2       2020-05-05 09:02:00  0 days 00:20:00              257          0   \n",
       "\n",
       "   dep_delay  is_on_MTR arr_delay_td dep_delay_td actual_arrival_time_dt  \n",
       "0          0      False       0 days       0 days    2020-05-05 09:44:00  \n",
       "1          0      False       0 days       0 days    2020-05-05 09:22:00  \n",
       "2          0      False       0 days       0 days    2020-05-05 09:02:00  "
      ]
     },
     "execution_count": 69,
     "metadata": {},
     "output_type": "execute_result"
    }
   ],
   "source": [
    "# Take a look at what we have\n",
    "df_TU_condensed.head(3)"
   ]
  },
  {
   "cell_type": "code",
   "execution_count": 70,
   "metadata": {},
   "outputs": [
    {
     "name": "stdout",
     "output_type": "stream",
     "text": [
      "0\n"
     ]
    }
   ],
   "source": [
    "# How many rows is there no info for\n",
    "print(len(df_TU_condensed[df_TU_condensed.scheduled_arrival_time_dt.isnull()]))"
   ]
  },
  {
   "cell_type": "code",
   "execution_count": 71,
   "metadata": {},
   "outputs": [],
   "source": [
    "# Ensure that the stop sequence is an integer value for proper sorting\n",
    "#df_TU_condensed.stop_sequence = df_TU_condensed.stop_sequence.astype(int)"
   ]
  },
  {
   "cell_type": "code",
   "execution_count": 72,
   "metadata": {
    "scrolled": true
   },
   "outputs": [],
   "source": [
    "# Sort 'df_TU_condensed' for calculation of actual headways\n",
    "df_TU_condensed = df_TU_condensed.sort_values(['direction_id','route_short_name','stop_sequence','actual_arrival_time_dt'],ascending = (True,True,True,False))\n",
    "\n",
    "#df_TU_condensed[df_TU_condensed.stop_sequence.isnull()]\n",
    "#df_TU_condensed.tail(5)"
   ]
  },
  {
   "cell_type": "code",
   "execution_count": 73,
   "metadata": {},
   "outputs": [],
   "source": [
    "# If the nominal headway could be merged in with the stop_timesdf,\n",
    "# then, the actual headway could be calculated from nominal headway + delay_bus_behind + delay_bus_in_front,\n",
    "# and, we wouldn't have to assume anything about last services at stops\n",
    "# and, we could import directly the trip in front"
   ]
  },
  {
   "cell_type": "code",
   "execution_count": 74,
   "metadata": {},
   "outputs": [],
   "source": [
    "# Cast df_TU_condensed['headway_nominal'] as a timedelta\n",
    "df_TU_condensed['headway_nominal'] = pd.to_timedelta(df_TU_condensed['headway_nominal'])\n",
    "\n",
    "# Initialise empty column for calculation of actual headways\n",
    "df_TU_condensed['headway_actual'] = df_TU_condensed['headway_nominal']\n",
    "\n",
    "df_TU_condensed['bunching_0.25hwy'] = np.nan\n",
    "df_TU_condensed['bunchingBehind_0.25hwy'] = np.nan\n",
    "df_TU_condensed['bunching_0.3hwy'] = np.nan\n",
    "\n",
    "\n",
    "# Intialise empty column for bus in front\n",
    "df_TU_condensed['bus_infront_tripID'] = np.nan\n",
    "\n",
    "# Set min allowable headway for bunching\n",
    "minHeadwayForBunching = dt.timedelta(seconds = 90)\n",
    "\n",
    "# Reset index for loop below.\n",
    "df_TU_condensed.reset_index(inplace = True, drop=True)"
   ]
  },
  {
   "cell_type": "code",
   "execution_count": 75,
   "metadata": {},
   "outputs": [],
   "source": [
    "index_nums2 = df_TU_condensed.index.values.tolist()\n",
    "\n",
    "for i in index_nums2[:-1]:\n",
    "    \n",
    "    # If, this bus is NOT the last bus that will visit this stop from this route, AND/OR\n",
    "    # this is NOT the only bus that visited this stop from this route. \n",
    "    # THEN, set the nominal headway will be calculated    \n",
    "    \n",
    "    if (df_TU_condensed[['direction_id','route_id','stop_sequence']].iloc[i].values.tolist() == df_TU_condensed[['direction_id','route_id','stop_sequence']].iloc[i+1].values.tolist()):\n",
    "        # Calculate the nominal headway.\n",
    "        # NOTE:\n",
    "        # This calculation is only appropriate when the values for \n",
    "        # ['direction_id','route_id','stop_seq'] \n",
    "        # are the same as those in the next row.\n",
    "        # This is not the case if this is the last bus that visited that stop from this route, OR\n",
    "        # This is the only bus that visited this stop from this route.\n",
    "        \n",
    "        df_TU_condensed.at[i,'headway_actual'] = df_TU_condensed.at[i,'actual_arrival_time_dt'] - df_TU_condensed.at[i+1,'actual_arrival_time_dt']\n",
    "                \n",
    "        df_TU_condensed.at[i,'bus_infront_tripID'] = df_TU_condensed.at[i+1,'trip_id']\n",
    "        #df_TU_condensed['headway_actual'].iloc[i] = df_TU_condensed['headway_nominal'].iloc[i] - (df_TU_condensed['arr_delay_td'].iloc[i+1] - df_TU_condensed['arr_delay_td'].iloc[i])\n",
    "        # ^ Code above has a problem when one bus overtakes another\n",
    "\n",
    "    # Define bus bunching as the situation where the headway is:\n",
    "    #     either less than 1/4 * nominal_headway, or \n",
    "    #     less than 1.5 mins.\n",
    "    # Make a column called 'bus bunching' that contains a '1' if there is bus bunching and a '0' if there isn't bus bunching.    \n",
    "    if (df_TU_condensed.at[i,'headway_actual'] <= 0.25*df_TU_condensed.at[i,'headway_nominal']):#|(df_TU_condensed['headway_actual'].iloc[i] < minHeadwayForBunching):\n",
    "        df_TU_condensed.at[i,'bunching_0.25hwy'] = 1\n",
    "        df_TU_condensed.at[i+1,'bunchingBehind_0.25hwy'] = 1\n",
    "        \n",
    "       \n",
    "    # It is implicitly assumed that trips that are the last to finish are not bunching\n",
    "    else:\n",
    "        df_TU_condensed.at[i,'bunching_0.25hwy'] = 0\n",
    "        df_TU_condensed.at[i+1,'bunchingBehind_0.25hwy'] = 0\n",
    "\n",
    "\n",
    "        \n",
    "    # What happens if headway = max(0.3hwy, 1.5 min) is the metric for measuring bus bunching\n",
    "    if (df_TU_condensed.at[i,'headway_actual'] <= 0.3*df_TU_condensed.at[i,'headway_nominal']):#|(df_TU_condensed['headway_actual'].iloc[i] < minHeadwayForBunching):\n",
    "        df_TU_condensed.at[i,'bunching_0.3hwy'] = 1\n",
    "\n",
    "        \n",
    "    # It is implicitly assumed that trips that are the last to finish are not bunching\n",
    "    else:\n",
    "        df_TU_condensed.at[i,'bunching_0.3hwy'] = 0\n",
    "        \n",
    "\n",
    "        \n",
    "# The loop misses the last row for bunching assessment because we dont know when the bus in front got there\n",
    "# Assume that it is not bunching.\n",
    "df_TU_condensed.at[max(index_nums2),'bunching_0.25hwy'] = 0\n",
    "df_TU_condensed.at[max(index_nums2),'bunching_0.3hwy'] = 0\n",
    "\n",
    "df_TU_condensed.at[min(index_nums2),'bunchingBehind_0.25hwy'] = 0"
   ]
  },
  {
   "cell_type": "markdown",
   "metadata": {},
   "source": [
    "#### Clean Up & Inspect Result"
   ]
  },
  {
   "cell_type": "code",
   "execution_count": 76,
   "metadata": {},
   "outputs": [],
   "source": [
    "#df_TU_condensed['bunchingBehind_0.25hwy'].iloc[min(index_nums2)] = 0"
   ]
  },
  {
   "cell_type": "code",
   "execution_count": 77,
   "metadata": {},
   "outputs": [],
   "source": [
    "#df_TU_condensed.head(1)"
   ]
  },
  {
   "cell_type": "code",
   "execution_count": 78,
   "metadata": {
    "scrolled": false
   },
   "outputs": [
    {
     "name": "stdout",
     "output_type": "stream",
     "text": [
      "122\n",
      "126\n"
     ]
    }
   ],
   "source": [
    "#df_TU_condensed[(df_TU_condensed['bunching_0.25hwy'] == 1)]# & (df_TU_condensed['bus_infront_tripID'].isnull())]\n",
    "print(len(df_TU_condensed[df_TU_condensed['bunching_0.25hwy'] == 1]))\n",
    "\n",
    "#df_TU_condensed[df_TU_condensed['bunching_0.3hwy'] == 1]\n",
    "print(len(df_TU_condensed[df_TU_condensed['bunching_0.3hwy'] == 1]))"
   ]
  },
  {
   "cell_type": "code",
   "execution_count": 79,
   "metadata": {},
   "outputs": [
    {
     "data": {
      "text/plain": [
       "6115"
      ]
     },
     "execution_count": 79,
     "metadata": {},
     "output_type": "execute_result"
    }
   ],
   "source": [
    "# Only consider the times 10 mins either side of all data collected\n",
    "\n",
    "# Subtract 100 mins from start time and add 20 mins to end time to get all trips of interest in 'stopsdf_headwy'\n",
    "# Later this time will be refined. We just need headway times for the buses at the start\n",
    "bufferTime = dt.timedelta(seconds = 1*60*10)\n",
    "startTimeHorizon_dt2 = startTime_dt - bufferTime\n",
    "endTimeHorizon_dt2 = endTime_dt + bufferTime\n",
    "\n",
    "# Filter 'df_TU_condensed' to only consider the times between the time horizons && \n",
    "# only take the rows where the nominal headway is not NaN or '0'\n",
    "df_TU_export = df_TU_condensed[(df_TU_condensed['headway_nominal'] != dt.timedelta(seconds = 0)) & (df_TU_condensed['headway_nominal'].isnull() == False) & (df_TU_condensed['scheduled_arrival_time_dt']>startTimeHorizon_dt2) & (df_TU_condensed['scheduled_arrival_time_dt']<endTimeHorizon_dt2)]\n",
    "\n",
    "# Check how many rows of data there are\n",
    "len(df_TU_export)"
   ]
  },
  {
   "cell_type": "code",
   "execution_count": 80,
   "metadata": {},
   "outputs": [
    {
     "name": "stdout",
     "output_type": "stream",
     "text": [
      "40\n",
      "44\n"
     ]
    }
   ],
   "source": [
    "# How many bunching instances are there\n",
    "#df_TU_export[df_TU_export['bunching_0.25hwy'] == 1]\n",
    "#df_TU_export[df_TU_export['arr_delay'] == 0]\n",
    "\n",
    "print(len(df_TU_export[df_TU_export['bunching_0.25hwy'] == 1]))\n",
    "print(len(df_TU_export[df_TU_export['bunching_0.3hwy'] == 1]))\n",
    "\n",
    "#df_TU_export"
   ]
  },
  {
   "cell_type": "code",
   "execution_count": 81,
   "metadata": {},
   "outputs": [],
   "source": [
    "#df_TU_export[df_TU_export.bus_infront_tripID.isnull() == 1]\n",
    "#df_TU_export[df_TU_export['bus_infront_tripID'].isnull() == 0]\n",
    "#df_TU_export.head(5)"
   ]
  },
  {
   "cell_type": "code",
   "execution_count": 82,
   "metadata": {
    "scrolled": true
   },
   "outputs": [
    {
     "data": {
      "text/html": [
       "<div>\n",
       "<style scoped>\n",
       "    .dataframe tbody tr th:only-of-type {\n",
       "        vertical-align: middle;\n",
       "    }\n",
       "\n",
       "    .dataframe tbody tr th {\n",
       "        vertical-align: top;\n",
       "    }\n",
       "\n",
       "    .dataframe thead th {\n",
       "        text-align: right;\n",
       "    }\n",
       "</style>\n",
       "<table border=\"1\" class=\"dataframe\">\n",
       "  <thead>\n",
       "    <tr style=\"text-align: right;\">\n",
       "      <th></th>\n",
       "      <th>trip_id</th>\n",
       "      <th>stop_sequence</th>\n",
       "      <th>stop_id</th>\n",
       "      <th>route_id</th>\n",
       "      <th>direction_id</th>\n",
       "      <th>scheduled_arrival_time_dt</th>\n",
       "      <th>headway_nominal</th>\n",
       "      <th>route_short_name</th>\n",
       "      <th>arr_delay</th>\n",
       "      <th>dep_delay</th>\n",
       "      <th>is_on_MTR</th>\n",
       "      <th>arr_delay_td</th>\n",
       "      <th>dep_delay_td</th>\n",
       "      <th>actual_arrival_time_dt</th>\n",
       "      <th>headway_actual</th>\n",
       "      <th>bunching_0.25hwy</th>\n",
       "      <th>bunchingBehind_0.25hwy</th>\n",
       "      <th>bunching_0.3hwy</th>\n",
       "      <th>bus_infront_tripID</th>\n",
       "    </tr>\n",
       "  </thead>\n",
       "  <tbody>\n",
       "    <tr>\n",
       "      <th>0</th>\n",
       "      <td>1060337</td>\n",
       "      <td>1</td>\n",
       "      <td>206717</td>\n",
       "      <td>28-143-sj2-1</td>\n",
       "      <td>0</td>\n",
       "      <td>2020-05-05 08:49:00</td>\n",
       "      <td>00:33:00</td>\n",
       "      <td>143</td>\n",
       "      <td>0</td>\n",
       "      <td>0</td>\n",
       "      <td>False</td>\n",
       "      <td>0 days</td>\n",
       "      <td>0 days</td>\n",
       "      <td>2020-05-05 08:49:00</td>\n",
       "      <td>00:33:00</td>\n",
       "      <td>0.0</td>\n",
       "      <td>0.0</td>\n",
       "      <td>0.0</td>\n",
       "      <td>1059316.0</td>\n",
       "    </tr>\n",
       "  </tbody>\n",
       "</table>\n",
       "</div>"
      ],
      "text/plain": [
       "   trip_id  stop_sequence stop_id      route_id  direction_id  \\\n",
       "0  1060337              1  206717  28-143-sj2-1             0   \n",
       "\n",
       "  scheduled_arrival_time_dt headway_nominal route_short_name  arr_delay  \\\n",
       "0       2020-05-05 08:49:00        00:33:00              143          0   \n",
       "\n",
       "   dep_delay  is_on_MTR arr_delay_td dep_delay_td actual_arrival_time_dt  \\\n",
       "0          0      False       0 days       0 days    2020-05-05 08:49:00   \n",
       "\n",
       "  headway_actual  bunching_0.25hwy  bunchingBehind_0.25hwy  bunching_0.3hwy  \\\n",
       "0       00:33:00               0.0                     0.0              0.0   \n",
       "\n",
       "   bus_infront_tripID  \n",
       "0           1059316.0  "
      ]
     },
     "execution_count": 82,
     "metadata": {},
     "output_type": "execute_result"
    }
   ],
   "source": [
    "# Drop the index column\n",
    "# 'Index' column (Note: this is not the actual index that we're dropping)\n",
    "\n",
    "collist = df_TU_export.columns.values.tolist()\n",
    "\n",
    "for colName in collist:\n",
    "    if 'index' in colName:\n",
    "        collist.remove(colName)\n",
    "df_TU_export = df_TU_export[collist]\n",
    "df_TU_export.head(1)"
   ]
  },
  {
   "cell_type": "markdown",
   "metadata": {},
   "source": [
    "#### Obtain and Merge-in MTR position and direction information for each trip"
   ]
  },
  {
   "cell_type": "code",
   "execution_count": 83,
   "metadata": {},
   "outputs": [],
   "source": [
    "# Obtain the first and last stop on MTR from the stop sequence\n",
    "\n",
    "# Check if any buses only have 1 stop on MTR - initialise a 'dummy_df' to use during working\n",
    "dummy_df = stopsdf_headwy.copy()\n",
    "\n",
    "\n",
    "# Find the buses that only have 1 stop on MTR and drop them from the dummy\n",
    "# Drop all rows for which the number of stops on MTR is only 1\n",
    "\n",
    "dummy_df2 = dummy_df[dummy_df['is_on_MTR'] == True].groupby(['trip_id', 'is_on_MTR']).count().sort_values('route_id').reset_index()\n",
    "AtLeastTwoStopMTR_tripId_list = dummy_df2[dummy_df2['arr_time'] != 1]['trip_id'].tolist()\n",
    "\n",
    "# Make more dummy_dfs that contain the first and last stop \n",
    "dummy_df3 = dummy_df[dummy_df['trip_id'].isin(AtLeastTwoStopMTR_tripId_list) & dummy_df['is_on_MTR'] == True].groupby('trip_id')['stop_sequence'].min().reset_index().sort_values('stop_sequence')\n",
    "dummy_df4 = dummy_df[dummy_df['trip_id'].isin(AtLeastTwoStopMTR_tripId_list) & dummy_df['is_on_MTR'] == True].groupby('trip_id')['stop_sequence'].max().reset_index().sort_values('stop_sequence')\n",
    "\n",
    "dummy_df3.rename(columns = {'stop_sequence':'First MTR Stop seq num'},inplace=True)\n",
    "dummy_df4.rename(columns = {'stop_sequence':'Last MTR Stop seq num'},inplace=True)\n",
    "\n",
    "#pd.merge(dummy_df, dummy_df3, dummy_df4, how = 'left', on = 'trip_id')\n",
    "#dummy_df[]\n",
    "dfs = [dummy_df[['trip_id', 'stop_sequence', 'stop_id', 'is_on_MTR']], dummy_df3, dummy_df4]\n",
    "\n",
    "dummydf_5 = reduce(lambda left,right: pd.merge(left,right,on='trip_id'), dfs)\n",
    "#dummydf_5= dummydf_5[(dummydf_5['First MTR Stop seq num'] == dummydf_5['stop_sequence']) | (dummydf_5['Last MTR Stop seq num'] == dummydf_5['stop_sequence'])]\n",
    "\n",
    "dummydf_5_first = dummydf_5[dummydf_5['First MTR Stop seq num'] == dummydf_5['stop_sequence']]\n",
    "#dummydf_5_first\n",
    "dummydf_5_last = dummydf_5[dummydf_5['Last MTR Stop seq num'] == dummydf_5['stop_sequence']]\n",
    "#dummydf_5_last\n",
    "\n",
    "# Get lat and long values\n",
    "dummydf_6_first = pd.merge(dummydf_5_first,stopsdf[['stop_id','stop_lat','stop_lon']], on = 'stop_id', how = 'left')\n",
    "dummydf_6_last = pd.merge(dummydf_5_last,stopsdf[['stop_id','stop_lat','stop_lon']], on = 'stop_id', how = 'left')\n",
    "\n",
    "# Make column names appropriate\n",
    "dummydf_6_first.rename(columns = {'stop_id':'first_stop_id','stop_lat': 'first_stop_lat','stop_lon': 'first_stop_lon'},inplace=True)\n",
    "dummydf_6_last.rename(columns = {'stop_id':'last_stop_id','stop_lat': 'last_stop_lat','stop_lon': 'last_stop_lon'},inplace=True)\n",
    "\n",
    "#dummydf_6_first\n",
    "#dummydf_6_last\n"
   ]
  },
  {
   "cell_type": "code",
   "execution_count": 84,
   "metadata": {},
   "outputs": [],
   "source": [
    "dummydf_6_first.drop('stop_sequence',axis=1,inplace=True)\n",
    "dummydf_6_last.drop(['stop_sequence','First MTR Stop seq num', 'Last MTR Stop seq num','is_on_MTR'],axis=1,inplace=True)"
   ]
  },
  {
   "cell_type": "code",
   "execution_count": 85,
   "metadata": {},
   "outputs": [
    {
     "data": {
      "text/html": [
       "<div>\n",
       "<style scoped>\n",
       "    .dataframe tbody tr th:only-of-type {\n",
       "        vertical-align: middle;\n",
       "    }\n",
       "\n",
       "    .dataframe tbody tr th {\n",
       "        vertical-align: top;\n",
       "    }\n",
       "\n",
       "    .dataframe thead th {\n",
       "        text-align: right;\n",
       "    }\n",
       "</style>\n",
       "<table border=\"1\" class=\"dataframe\">\n",
       "  <thead>\n",
       "    <tr style=\"text-align: right;\">\n",
       "      <th></th>\n",
       "      <th>trip_id</th>\n",
       "      <th>first_stop_id</th>\n",
       "      <th>is_on_MTR</th>\n",
       "      <th>First MTR Stop seq num</th>\n",
       "      <th>Last MTR Stop seq num</th>\n",
       "      <th>first_stop_lat</th>\n",
       "      <th>first_stop_lon</th>\n",
       "      <th>last_stop_id</th>\n",
       "      <th>last_stop_lat</th>\n",
       "      <th>last_stop_lon</th>\n",
       "    </tr>\n",
       "  </thead>\n",
       "  <tbody>\n",
       "    <tr>\n",
       "      <th>0</th>\n",
       "      <td>1137634</td>\n",
       "      <td>208947</td>\n",
       "      <td>True</td>\n",
       "      <td>27</td>\n",
       "      <td>30</td>\n",
       "      <td>-33.829879</td>\n",
       "      <td>151.218454</td>\n",
       "      <td>209058</td>\n",
       "      <td>-33.829481</td>\n",
       "      <td>151.227708</td>\n",
       "    </tr>\n",
       "    <tr>\n",
       "      <th>1</th>\n",
       "      <td>1138040</td>\n",
       "      <td>208947</td>\n",
       "      <td>True</td>\n",
       "      <td>27</td>\n",
       "      <td>36</td>\n",
       "      <td>-33.829879</td>\n",
       "      <td>151.218454</td>\n",
       "      <td>208847</td>\n",
       "      <td>-33.828807</td>\n",
       "      <td>151.244149</td>\n",
       "    </tr>\n",
       "  </tbody>\n",
       "</table>\n",
       "</div>"
      ],
      "text/plain": [
       "   trip_id first_stop_id  is_on_MTR  First MTR Stop seq num  \\\n",
       "0  1137634        208947       True                      27   \n",
       "1  1138040        208947       True                      27   \n",
       "\n",
       "   Last MTR Stop seq num  first_stop_lat  first_stop_lon last_stop_id  \\\n",
       "0                     30      -33.829879      151.218454       209058   \n",
       "1                     36      -33.829879      151.218454       208847   \n",
       "\n",
       "   last_stop_lat  last_stop_lon  \n",
       "0     -33.829481     151.227708  \n",
       "1     -33.828807     151.244149  "
      ]
     },
     "execution_count": 85,
     "metadata": {},
     "output_type": "execute_result"
    }
   ],
   "source": [
    "direction_df = pd.merge(dummydf_6_first,dummydf_6_last, on = 'trip_id', how = 'left')\n",
    "direction_df.head(2)"
   ]
  },
  {
   "cell_type": "code",
   "execution_count": null,
   "metadata": {},
   "outputs": [],
   "source": []
  },
  {
   "cell_type": "markdown",
   "metadata": {},
   "source": [
    "1. Determine the bearing between the two points\n",
    "2. Assign direction number "
   ]
  },
  {
   "cell_type": "code",
   "execution_count": 86,
   "metadata": {
    "scrolled": true
   },
   "outputs": [],
   "source": [
    "#Geodesic.WGS84.Inverse(-33.829879, 151.218454, -32, 150.244149)['azi1']"
   ]
  },
  {
   "cell_type": "code",
   "execution_count": 87,
   "metadata": {},
   "outputs": [],
   "source": [
    "#direction_df"
   ]
  },
  {
   "cell_type": "code",
   "execution_count": 88,
   "metadata": {},
   "outputs": [],
   "source": [
    "# 'dummydf_6' contains infomation on all the trips that use MTR\n",
    "# Specifically infromation relating to the first and last stop on MTR as well as the coordinates of these stops is contained\n",
    "# This will be used to calculated the bearing of each of these buses\n",
    "\n",
    "# Calculate the bearing of the buses on military \n",
    "# Angles are from -180 to 180\n",
    "\n",
    "direction_df['bearing'] = direction_df.apply(lambda x: Geodesic.WGS84.Inverse(x['first_stop_lat'], x['first_stop_lon'], x['last_stop_lat'], x['last_stop_lon'])['azi1'],axis=1)\n",
    "\n",
    "#dummydf_6.sort_values('bearing')"
   ]
  },
  {
   "cell_type": "markdown",
   "metadata": {},
   "source": [
    "Define:\n",
    "- direction_number = 1 to be buses that travel with a south-west heading along MTR\n",
    "- direction_number = 0 to be buses that travel with a north-east heading along MTR"
   ]
  },
  {
   "cell_type": "code",
   "execution_count": 89,
   "metadata": {},
   "outputs": [],
   "source": [
    "# The direction of each trip can now be determined\n",
    "\n",
    "direction_df['direction_number'] = np.where(direction_df['bearing'] < 0, 1, 0)"
   ]
  },
  {
   "cell_type": "code",
   "execution_count": 90,
   "metadata": {},
   "outputs": [],
   "source": [
    "# Merge 'direction_df' with 'df_TU_export'\n",
    "df_TU_export = pd.merge(df_TU_export,direction_df[['trip_id','direction_number']], how = 'left', on = 'trip_id')"
   ]
  },
  {
   "cell_type": "code",
   "execution_count": 91,
   "metadata": {},
   "outputs": [],
   "source": [
    "# There is no direction number if the bus either (a) only has 1 stop on MTR, or\n",
    "# (b) the bus started at a point that was either the last MTR stop or it never had a MTR stop\n",
    "#     ^ these buses in b were helpful for calculating other headways but can be deleted now\n",
    "df_TU_export = df_TU_export[(df_TU_export['direction_number'].isnull() == False)]"
   ]
  },
  {
   "cell_type": "code",
   "execution_count": 92,
   "metadata": {},
   "outputs": [],
   "source": [
    "# Sort 'df_TU_export' in an ordered way before exporting\n",
    "df_TU_export.sort_values(['route_id', 'direction_number', 'stop_sequence','scheduled_arrival_time_dt'],ascending = True, inplace=True)"
   ]
  },
  {
   "cell_type": "code",
   "execution_count": 93,
   "metadata": {
    "scrolled": true
   },
   "outputs": [
    {
     "data": {
      "text/html": [
       "<div>\n",
       "<style scoped>\n",
       "    .dataframe tbody tr th:only-of-type {\n",
       "        vertical-align: middle;\n",
       "    }\n",
       "\n",
       "    .dataframe tbody tr th {\n",
       "        vertical-align: top;\n",
       "    }\n",
       "\n",
       "    .dataframe thead th {\n",
       "        text-align: right;\n",
       "    }\n",
       "</style>\n",
       "<table border=\"1\" class=\"dataframe\">\n",
       "  <thead>\n",
       "    <tr style=\"text-align: right;\">\n",
       "      <th></th>\n",
       "      <th>trip_id</th>\n",
       "      <th>stop_sequence</th>\n",
       "      <th>stop_id</th>\n",
       "      <th>route_id</th>\n",
       "      <th>direction_id</th>\n",
       "      <th>scheduled_arrival_time_dt</th>\n",
       "      <th>headway_nominal</th>\n",
       "      <th>route_short_name</th>\n",
       "      <th>arr_delay</th>\n",
       "      <th>dep_delay</th>\n",
       "      <th>is_on_MTR</th>\n",
       "      <th>arr_delay_td</th>\n",
       "      <th>dep_delay_td</th>\n",
       "      <th>actual_arrival_time_dt</th>\n",
       "      <th>headway_actual</th>\n",
       "      <th>bunching_0.25hwy</th>\n",
       "      <th>bunchingBehind_0.25hwy</th>\n",
       "      <th>bunching_0.3hwy</th>\n",
       "      <th>bus_infront_tripID</th>\n",
       "      <th>direction_number</th>\n",
       "    </tr>\n",
       "  </thead>\n",
       "  <tbody>\n",
       "    <tr>\n",
       "      <th>1440</th>\n",
       "      <td>1138086</td>\n",
       "      <td>1</td>\n",
       "      <td>206718</td>\n",
       "      <td>26-257-sj2-1</td>\n",
       "      <td>0</td>\n",
       "      <td>2020-05-05 08:22:00</td>\n",
       "      <td>00:18:00</td>\n",
       "      <td>257</td>\n",
       "      <td>0</td>\n",
       "      <td>0</td>\n",
       "      <td>False</td>\n",
       "      <td>0 days</td>\n",
       "      <td>0 days</td>\n",
       "      <td>2020-05-05 08:22:00</td>\n",
       "      <td>00:18:00</td>\n",
       "      <td>0.0</td>\n",
       "      <td>0.0</td>\n",
       "      <td>0.0</td>\n",
       "      <td>1138088.0</td>\n",
       "      <td>0.0</td>\n",
       "    </tr>\n",
       "  </tbody>\n",
       "</table>\n",
       "</div>"
      ],
      "text/plain": [
       "      trip_id  stop_sequence stop_id      route_id  direction_id  \\\n",
       "1440  1138086              1  206718  26-257-sj2-1             0   \n",
       "\n",
       "     scheduled_arrival_time_dt headway_nominal route_short_name  arr_delay  \\\n",
       "1440       2020-05-05 08:22:00        00:18:00              257          0   \n",
       "\n",
       "      dep_delay  is_on_MTR arr_delay_td dep_delay_td actual_arrival_time_dt  \\\n",
       "1440          0      False       0 days       0 days    2020-05-05 08:22:00   \n",
       "\n",
       "     headway_actual  bunching_0.25hwy  bunchingBehind_0.25hwy  \\\n",
       "1440       00:18:00               0.0                     0.0   \n",
       "\n",
       "      bunching_0.3hwy  bus_infront_tripID  direction_number  \n",
       "1440              0.0           1138088.0               0.0  "
      ]
     },
     "execution_count": 93,
     "metadata": {},
     "output_type": "execute_result"
    }
   ],
   "source": [
    "df_TU_export.head(1)"
   ]
  },
  {
   "cell_type": "code",
   "execution_count": 94,
   "metadata": {},
   "outputs": [],
   "source": [
    "# Get columns in appropriate order.\n",
    "# Note if there are any other columns this will need to be updated\n",
    "colOrder = ['route_id','route_short_name', 'trip_id', 'stop_sequence', 'stop_id', 'direction_number', \n",
    " 'is_on_MTR', 'scheduled_arrival_time_dt', 'headway_nominal', 'arr_delay', 'dep_delay',\n",
    " 'arr_delay_td', 'dep_delay_td', 'actual_arrival_time_dt', 'headway_actual', 'bunching_0.25hwy', 'bunchingBehind_0.25hwy',\n",
    " 'bunching_0.3hwy', 'bus_infront_tripID', 'direction_id']\n",
    "df_TU_export = df_TU_export[colOrder].copy()"
   ]
  },
  {
   "cell_type": "code",
   "execution_count": 95,
   "metadata": {},
   "outputs": [],
   "source": [
    "#df_TU_export.head(60)\n",
    "# Delete some unnecessary columns before saving the dataframe\n",
    "#df_TU_export.drop(['direction_id','dep_delay','dep_delay_td'], axis=1,inplace=True)\n",
    "df_TU_export.drop(['direction_id'], axis=1,inplace=True)"
   ]
  },
  {
   "cell_type": "markdown",
   "metadata": {},
   "source": [
    "### Save Data"
   ]
  },
  {
   "cell_type": "code",
   "execution_count": 96,
   "metadata": {},
   "outputs": [],
   "source": [
    "pathname_df_TU_processed = '/home/Processed MTR Trip Updates'\n",
    "filename_df_TU_processed = filename_MTR[:-4] + '_PROCESSED.pkl'\n",
    "\n",
    "#df_TU_export.to_csv(os.path.join(pathname_df_TU_processed,'20200508_XXXX_TU_MILITARY_PROCESSED.csv'), index = False)\n",
    "\n",
    "# SAVE AS PICKLE FILE TO PRESERVE DTYPES:\n",
    "df_TU_export.to_pickle(os.path.join(pathname_df_TU_processed,filename_df_TU_processed))"
   ]
  },
  {
   "cell_type": "code",
   "execution_count": 97,
   "metadata": {},
   "outputs": [],
   "source": [
    "#df_eg = pd.read_pickle(pathname_df_TU_processed+'/'+filename_df_TU_processed)\n",
    "#df_eg.head()"
   ]
  },
  {
   "cell_type": "code",
   "execution_count": 98,
   "metadata": {},
   "outputs": [],
   "source": [
    "# Save the direction information of all the trips as a .pkl file\n",
    "\n",
    "##direction_df.to_pickle('Stop_and_Direction_Info_MTR.pkl')"
   ]
  },
  {
   "cell_type": "code",
   "execution_count": 99,
   "metadata": {
    "scrolled": true
   },
   "outputs": [],
   "source": [
    "#df_TU_export"
   ]
  },
  {
   "cell_type": "code",
   "execution_count": null,
   "metadata": {},
   "outputs": [],
   "source": []
  }
 ],
 "metadata": {
  "kernelspec": {
   "display_name": "Python 3",
   "language": "python",
   "name": "python3"
  },
  "language_info": {
   "codemirror_mode": {
    "name": "ipython",
    "version": 3
   },
   "file_extension": ".py",
   "mimetype": "text/x-python",
   "name": "python",
   "nbconvert_exporter": "python",
   "pygments_lexer": "ipython3",
   "version": "3.8.2"
  }
 },
 "nbformat": 4,
 "nbformat_minor": 2
}
